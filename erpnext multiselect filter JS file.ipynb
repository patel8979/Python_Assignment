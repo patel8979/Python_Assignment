{
 "cells": [
  {
   "cell_type": "code",
   "execution_count": null,
   "id": "065638a5",
   "metadata": {},
   "outputs": [],
   "source": [
    "// Copyright (c) 2023, Extension and contributors\n",
    "// For license information, please see license.txt\n",
    "/* eslint-disable */\n",
    "\n",
    "frappe.query_reports[\"Pending Purchase Order Report\"] = {\n",
    "    \"filters\": [\n",
    "        {\n",
    "\t\t\t\"fieldname\":\"cost_center\",\n",
    "\t\t\t\"label\": __(\"Branch\"),\n",
    "\t\t\t\"fieldtype\": \"MultiSelectList\",\n",
    "\t\t\tget_data: function(txt) {\n",
    "\t\t\t\treturn frappe.db.get_link_options('Cost Center', txt);\n",
    "\t\t\t}\n",
    "\t\t},\n",
    "        {\n",
    "\t\t\t\"fieldname\":\"supplier\",\n",
    "\t\t\t\"label\": __(\"Party Code\"),\n",
    "\t\t\t\"fieldtype\": \"MultiSelectList\",\n",
    "\t\t\tget_data: function(txt) {\n",
    "\t\t\t\treturn frappe.db.get_link_options('Supplier', txt);\n",
    "\t\t\t}\n",
    "\t\t},\n",
    "        {\n",
    "            \"fieldname\": \"from_date\",\n",
    "            \"label\": __(\"From Date\"),\n",
    "            \"fieldtype\": \"Date\",\n",
    "            \"default\": frappe.datetime.add_months(frappe.datetime.get_today(), -24),\n",
    "        },\n",
    "        {\n",
    "            \"fieldname\": \"to_date\",\n",
    "            \"label\": __(\"To Date\"),\n",
    "            \"fieldtype\": \"Date\",\n",
    "            \"default\": frappe.datetime.get_today(),\n",
    "        },\n",
    "    ]\n",
    "};"
   ]
  }
 ],
 "metadata": {
  "kernelspec": {
   "display_name": "Python 3 (ipykernel)",
   "language": "python",
   "name": "python3"
  },
  "language_info": {
   "codemirror_mode": {
    "name": "ipython",
    "version": 3
   },
   "file_extension": ".py",
   "mimetype": "text/x-python",
   "name": "python",
   "nbconvert_exporter": "python",
   "pygments_lexer": "ipython3",
   "version": "3.9.13"
  }
 },
 "nbformat": 4,
 "nbformat_minor": 5
}

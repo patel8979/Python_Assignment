{
 "cells": [
  {
   "cell_type": "markdown",
   "id": "607eaa8d",
   "metadata": {},
   "source": [
    "# Map function"
   ]
  },
  {
   "cell_type": "code",
   "execution_count": null,
   "id": "1426f024",
   "metadata": {},
   "outputs": [],
   "source": [
    "my_list = [2, 4, 6, 7, 8, 1]"
   ]
  },
  {
   "cell_type": "code",
   "execution_count": null,
   "id": "69abe81e",
   "metadata": {},
   "outputs": [],
   "source": [
    "def test(l1):\n",
    "    new_list = []\n",
    "    for i in my_list:\n",
    "        new_list.append(i ** 2)\n",
    "    return new_list"
   ]
  },
  {
   "cell_type": "code",
   "execution_count": null,
   "id": "262bccc6",
   "metadata": {},
   "outputs": [],
   "source": [
    "test(my_list)"
   ]
  },
  {
   "cell_type": "code",
   "execution_count": null,
   "id": "5fa19d71",
   "metadata": {},
   "outputs": [],
   "source": [
    "def sq(x):\n",
    "    return x ** 2"
   ]
  },
  {
   "cell_type": "code",
   "execution_count": null,
   "id": "4baae8e6",
   "metadata": {},
   "outputs": [],
   "source": [
    "list(map(sq, my_list))"
   ]
  },
  {
   "cell_type": "code",
   "execution_count": null,
   "id": "26cee7c9",
   "metadata": {},
   "outputs": [],
   "source": [
    "list(map(lambda x : x ** 2, my_list))"
   ]
  },
  {
   "cell_type": "code",
   "execution_count": null,
   "id": "c73698c8",
   "metadata": {},
   "outputs": [],
   "source": [
    "l1 = [1, 2, 3, 4, 5]\n",
    "l2 = [6, 7, 8, 9, 10]\n",
    "list(map(lambda x, y : x + y, l1, l2))"
   ]
  },
  {
   "cell_type": "code",
   "execution_count": null,
   "id": "4e0ff508",
   "metadata": {},
   "outputs": [],
   "source": [
    "def add(x, y):\n",
    "    return x+y"
   ]
  },
  {
   "cell_type": "code",
   "execution_count": null,
   "id": "d42eda1f",
   "metadata": {},
   "outputs": [],
   "source": [
    "list(map(add, l1, l2))"
   ]
  },
  {
   "cell_type": "code",
   "execution_count": null,
   "id": "6002fc49",
   "metadata": {},
   "outputs": [],
   "source": [
    "string = \"google\"\n"
   ]
  },
  {
   "cell_type": "code",
   "execution_count": null,
   "id": "a20750bd",
   "metadata": {},
   "outputs": [],
   "source": [
    "list(map(lambda string: string.upper(), string))"
   ]
  },
  {
   "cell_type": "code",
   "execution_count": null,
   "id": "04f5c030",
   "metadata": {},
   "outputs": [],
   "source": [
    "def uppercase_string(x):\n",
    "    return x.upper()"
   ]
  },
  {
   "cell_type": "code",
   "execution_count": null,
   "id": "bb2fe16d",
   "metadata": {},
   "outputs": [],
   "source": [
    "str(map(uppercase_string, string))"
   ]
  },
  {
   "cell_type": "markdown",
   "id": "cf1d6791",
   "metadata": {},
   "source": [
    "# Reduce Function"
   ]
  },
  {
   "cell_type": "code",
   "execution_count": 1,
   "id": "605f9c9a",
   "metadata": {},
   "outputs": [],
   "source": [
    "from functools import reduce"
   ]
  },
  {
   "cell_type": "code",
   "execution_count": 2,
   "id": "e8b87a6a",
   "metadata": {},
   "outputs": [],
   "source": [
    "l1 = [1, 3, 4, 5, 6, 6, 9]\n"
   ]
  },
  {
   "cell_type": "code",
   "execution_count": 3,
   "id": "9794c3a3",
   "metadata": {},
   "outputs": [
    {
     "data": {
      "text/plain": [
       "34"
      ]
     },
     "execution_count": 3,
     "metadata": {},
     "output_type": "execute_result"
    }
   ],
   "source": [
    "reduce(lambda x, y : x+y, l1)"
   ]
  },
  {
   "cell_type": "code",
   "execution_count": 4,
   "id": "74e293b5",
   "metadata": {},
   "outputs": [
    {
     "data": {
      "text/plain": [
       "19440"
      ]
     },
     "execution_count": 4,
     "metadata": {},
     "output_type": "execute_result"
    }
   ],
   "source": [
    "reduce(lambda x, y: x*y, l1)"
   ]
  },
  {
   "cell_type": "code",
   "execution_count": 5,
   "id": "910a92a5",
   "metadata": {},
   "outputs": [
    {
     "data": {
      "text/plain": [
       "9"
      ]
     },
     "execution_count": 5,
     "metadata": {},
     "output_type": "execute_result"
    }
   ],
   "source": [
    "reduce(lambda x, y: max(x, y), l1)"
   ]
  },
  {
   "cell_type": "markdown",
   "id": "d326842d",
   "metadata": {},
   "source": [
    "# Filter Function"
   ]
  },
  {
   "cell_type": "code",
   "execution_count": 6,
   "id": "499fb6fc",
   "metadata": {},
   "outputs": [
    {
     "data": {
      "text/plain": [
       "[1, 3, 4, 5, 6, 6, 9]"
      ]
     },
     "execution_count": 6,
     "metadata": {},
     "output_type": "execute_result"
    }
   ],
   "source": [
    "l1"
   ]
  },
  {
   "cell_type": "code",
   "execution_count": 8,
   "id": "7f82b122",
   "metadata": {},
   "outputs": [
    {
     "data": {
      "text/plain": [
       "[4, 6, 6]"
      ]
     },
     "execution_count": 8,
     "metadata": {},
     "output_type": "execute_result"
    }
   ],
   "source": [
    "list(filter(lambda x: x % 2 == 0, l1))"
   ]
  },
  {
   "cell_type": "code",
   "execution_count": 9,
   "id": "45aa38fe",
   "metadata": {},
   "outputs": [],
   "source": [
    "l2 = [\"data\", \"happy\", \"reduce\", \"growth\", \"rich\"]\n"
   ]
  },
  {
   "cell_type": "code",
   "execution_count": 11,
   "id": "d84afd34",
   "metadata": {},
   "outputs": [
    {
     "data": {
      "text/plain": [
       "['data', 'rich']"
      ]
     },
     "execution_count": 11,
     "metadata": {},
     "output_type": "execute_result"
    }
   ],
   "source": [
    "list(filter(lambda x : len(x) <= 4, l2))"
   ]
  },
  {
   "cell_type": "code",
   "execution_count": null,
   "id": "079e47f6",
   "metadata": {},
   "outputs": [],
   "source": []
  }
 ],
 "metadata": {
  "kernelspec": {
   "display_name": "Python 3 (ipykernel)",
   "language": "python",
   "name": "python3"
  },
  "language_info": {
   "codemirror_mode": {
    "name": "ipython",
    "version": 3
   },
   "file_extension": ".py",
   "mimetype": "text/x-python",
   "name": "python",
   "nbconvert_exporter": "python",
   "pygments_lexer": "ipython3",
   "version": "3.9.13"
  }
 },
 "nbformat": 4,
 "nbformat_minor": 5
}

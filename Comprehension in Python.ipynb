{
 "cells": [
  {
   "cell_type": "code",
   "execution_count": 1,
   "id": "017d1355",
   "metadata": {},
   "outputs": [],
   "source": [
    "list1 = [1, 2, 3, 4, 5, 6, 45, 67, 89]"
   ]
  },
  {
   "cell_type": "code",
   "execution_count": 2,
   "id": "dcb981dd",
   "metadata": {},
   "outputs": [
    {
     "data": {
      "text/plain": [
       "[1, 2, 3, 4, 5, 6, 45, 67, 89]"
      ]
     },
     "execution_count": 2,
     "metadata": {},
     "output_type": "execute_result"
    }
   ],
   "source": [
    "list1\n"
   ]
  },
  {
   "cell_type": "code",
   "execution_count": null,
   "id": "c8768790",
   "metadata": {},
   "outputs": [],
   "source": [
    "new_list = []\n",
    "for i in list1:\n",
    "    new_list.append(i**2)\n",
    "print(new_list)"
   ]
  },
  {
   "cell_type": "code",
   "execution_count": null,
   "id": "ceb5f3fe",
   "metadata": {},
   "outputs": [],
   "source": [
    "# write above code in one line\n",
    "[i**2 for i in list1]"
   ]
  },
  {
   "cell_type": "code",
   "execution_count": null,
   "id": "e6c0ad0f",
   "metadata": {},
   "outputs": [],
   "source": [
    "list1"
   ]
  },
  {
   "cell_type": "code",
   "execution_count": null,
   "id": "8bfe27e4",
   "metadata": {},
   "outputs": [],
   "source": [
    "# find out even number in the list\n",
    "for i in list1:\n",
    "    if i % 2 == 0:\n",
    "        print(i)"
   ]
  },
  {
   "cell_type": "code",
   "execution_count": 4,
   "id": "19dc4c8b",
   "metadata": {},
   "outputs": [
    {
     "data": {
      "text/plain": [
       "[2, 4, 6]"
      ]
     },
     "execution_count": 4,
     "metadata": {},
     "output_type": "execute_result"
    }
   ],
   "source": [
    "[i for i in list1 if i % 2 == 0]"
   ]
  },
  {
   "cell_type": "code",
   "execution_count": 5,
   "id": "952dea08",
   "metadata": {},
   "outputs": [],
   "source": [
    "#write this list element in comprehension way\n",
    "list2 = [\"data\", \"science\", \"business\", \"intelligence\", \"analytics\", \"robotics\"]"
   ]
  },
  {
   "cell_type": "code",
   "execution_count": 6,
   "id": "20a0d86f",
   "metadata": {},
   "outputs": [
    {
     "data": {
      "text/plain": [
       "['data', 'science', 'business', 'intelligence', 'analytics', 'robotics']"
      ]
     },
     "execution_count": 6,
     "metadata": {},
     "output_type": "execute_result"
    }
   ],
   "source": [
    "list2"
   ]
  },
  {
   "cell_type": "code",
   "execution_count": 7,
   "id": "314ed96f",
   "metadata": {},
   "outputs": [
    {
     "data": {
      "text/plain": [
       "['DATA', 'SCIENCE', 'BUSINESS', 'INTELLIGENCE', 'ANALYTICS', 'ROBOTICS']"
      ]
     },
     "execution_count": 7,
     "metadata": {},
     "output_type": "execute_result"
    }
   ],
   "source": [
    "[i.upper() for i in list2]"
   ]
  },
  {
   "cell_type": "code",
   "execution_count": 8,
   "id": "9a8d378d",
   "metadata": {},
   "outputs": [
    {
     "data": {
      "text/plain": [
       "[1, 2, 3, 4, 5, 6, 45, 67, 89]"
      ]
     },
     "execution_count": 8,
     "metadata": {},
     "output_type": "execute_result"
    }
   ],
   "source": [
    "list1"
   ]
  },
  {
   "cell_type": "code",
   "execution_count": 13,
   "id": "df7710c1",
   "metadata": {},
   "outputs": [
    {
     "data": {
      "text/plain": [
       "<generator object <genexpr> at 0x000001C2609F1740>"
      ]
     },
     "execution_count": 13,
     "metadata": {},
     "output_type": "execute_result"
    }
   ],
   "source": [
    "(i ** 2 for i in list1)"
   ]
  },
  {
   "cell_type": "code",
   "execution_count": 12,
   "id": "644fe368",
   "metadata": {},
   "outputs": [
    {
     "data": {
      "text/plain": [
       "[1, 4, 9, 16, 25, 36, 2025, 4489, 7921]"
      ]
     },
     "execution_count": 12,
     "metadata": {},
     "output_type": "execute_result"
    }
   ],
   "source": [
    "list((i ** 2 for i in list1))"
   ]
  },
  {
   "cell_type": "code",
   "execution_count": 14,
   "id": "3dbb667b",
   "metadata": {},
   "outputs": [],
   "source": [
    "# dictionary comprehension\n",
    "hey_dict = {\"key1\": 1, \"key2\": 2, \"key3\": 3, \"key4\": 4}"
   ]
  },
  {
   "cell_type": "code",
   "execution_count": 15,
   "id": "3625a8e8",
   "metadata": {},
   "outputs": [
    {
     "data": {
      "text/plain": [
       "{'key1': 1, 'key2': 2, 'key3': 3, 'key4': 4}"
      ]
     },
     "execution_count": 15,
     "metadata": {},
     "output_type": "execute_result"
    }
   ],
   "source": [
    "hey_dict"
   ]
  },
  {
   "cell_type": "code",
   "execution_count": 22,
   "id": "b16a388f",
   "metadata": {},
   "outputs": [
    {
     "data": {
      "text/plain": [
       "{'key1': 1, 'key2': 4, 'key3': 9, 'key4': 16}"
      ]
     },
     "execution_count": 22,
     "metadata": {},
     "output_type": "execute_result"
    }
   ],
   "source": [
    "{k:v ** 2 for k, v in hey_dict.items()}"
   ]
  },
  {
   "cell_type": "code",
   "execution_count": 23,
   "id": "628c7cab",
   "metadata": {},
   "outputs": [
    {
     "data": {
      "text/plain": [
       "{'key3': 3, 'key4': 4}"
      ]
     },
     "execution_count": 23,
     "metadata": {},
     "output_type": "execute_result"
    }
   ],
   "source": [
    "{k:v for k, v in hey_dict.items() if v > 2}"
   ]
  },
  {
   "cell_type": "code",
   "execution_count": null,
   "id": "3d50f52b",
   "metadata": {},
   "outputs": [],
   "source": []
  }
 ],
 "metadata": {
  "kernelspec": {
   "display_name": "Python 3 (ipykernel)",
   "language": "python",
   "name": "python3"
  },
  "language_info": {
   "codemirror_mode": {
    "name": "ipython",
    "version": 3
   },
   "file_extension": ".py",
   "mimetype": "text/x-python",
   "name": "python",
   "nbconvert_exporter": "python",
   "pygments_lexer": "ipython3",
   "version": "3.9.13"
  }
 },
 "nbformat": 4,
 "nbformat_minor": 5
}

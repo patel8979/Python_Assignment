{
 "cells": [
  {
   "cell_type": "code",
   "execution_count": 1,
   "id": "72ff6f07",
   "metadata": {},
   "outputs": [
    {
     "name": "stdout",
     "output_type": "stream",
     "text": [
      "hey data scientist!\n"
     ]
    }
   ],
   "source": [
    "print(\"hey data scientist!\")"
   ]
  },
  {
   "cell_type": "code",
   "execution_count": 2,
   "id": "7bf10deb",
   "metadata": {},
   "outputs": [
    {
     "ename": "IndentationError",
     "evalue": "expected an indented block (3861551224.py, line 1)",
     "output_type": "error",
     "traceback": [
      "\u001b[1;36m  File \u001b[1;32m\"C:\\Users\\deven\\AppData\\Local\\Temp\\ipykernel_4856\\3861551224.py\"\u001b[1;36m, line \u001b[1;32m1\u001b[0m\n\u001b[1;33m    def test():\u001b[0m\n\u001b[1;37m               ^\u001b[0m\n\u001b[1;31mIndentationError\u001b[0m\u001b[1;31m:\u001b[0m expected an indented block\n"
     ]
    }
   ],
   "source": [
    "def test():"
   ]
  },
  {
   "cell_type": "code",
   "execution_count": 3,
   "id": "256bd26c",
   "metadata": {},
   "outputs": [],
   "source": [
    "def test():\n",
    "    pass"
   ]
  },
  {
   "cell_type": "code",
   "execution_count": 7,
   "id": "b8a66b7d",
   "metadata": {},
   "outputs": [],
   "source": [
    "def test1(): # function definition\n",
    "    print(\"this is my first function!\")"
   ]
  },
  {
   "cell_type": "code",
   "execution_count": 6,
   "id": "cf4cd111",
   "metadata": {},
   "outputs": [
    {
     "name": "stdout",
     "output_type": "stream",
     "text": [
      "this is my first function!\n"
     ]
    }
   ],
   "source": [
    "test1() # function call"
   ]
  },
  {
   "cell_type": "code",
   "execution_count": 9,
   "id": "5bd4337f",
   "metadata": {},
   "outputs": [
    {
     "name": "stdout",
     "output_type": "stream",
     "text": [
      "this is my first function!\n"
     ]
    },
    {
     "ename": "TypeError",
     "evalue": "unsupported operand type(s) for +: 'NoneType' and 'str'",
     "output_type": "error",
     "traceback": [
      "\u001b[1;31m---------------------------------------------------------------------------\u001b[0m",
      "\u001b[1;31mTypeError\u001b[0m                                 Traceback (most recent call last)",
      "\u001b[1;32m~\\AppData\\Local\\Temp\\ipykernel_4856\\1815481902.py\u001b[0m in \u001b[0;36m<module>\u001b[1;34m\u001b[0m\n\u001b[1;32m----> 1\u001b[1;33m \u001b[0mtest1\u001b[0m\u001b[1;33m(\u001b[0m\u001b[1;33m)\u001b[0m \u001b[1;33m+\u001b[0m \u001b[1;34m\"some\"\u001b[0m\u001b[1;33m\u001b[0m\u001b[1;33m\u001b[0m\u001b[0m\n\u001b[0m",
      "\u001b[1;31mTypeError\u001b[0m: unsupported operand type(s) for +: 'NoneType' and 'str'"
     ]
    }
   ],
   "source": [
    "test1() + \"some\""
   ]
  },
  {
   "cell_type": "code",
   "execution_count": 10,
   "id": "1f4e8548",
   "metadata": {},
   "outputs": [],
   "source": [
    "def test2():\n",
    "    return \"this is my very first programming journey\""
   ]
  },
  {
   "cell_type": "code",
   "execution_count": 11,
   "id": "cc030e1d",
   "metadata": {},
   "outputs": [
    {
     "data": {
      "text/plain": [
       "'this is my very first programming journey'"
      ]
     },
     "execution_count": 11,
     "metadata": {},
     "output_type": "execute_result"
    }
   ],
   "source": [
    "test2()"
   ]
  },
  {
   "cell_type": "code",
   "execution_count": 14,
   "id": "7a7a5dbd",
   "metadata": {},
   "outputs": [
    {
     "data": {
      "text/plain": [
       "'this is my very first programming journey hai'"
      ]
     },
     "execution_count": 14,
     "metadata": {},
     "output_type": "execute_result"
    }
   ],
   "source": [
    "test2() + \" hai\""
   ]
  },
  {
   "cell_type": "code",
   "execution_count": 17,
   "id": "66040c59",
   "metadata": {},
   "outputs": [],
   "source": [
    "def test3():\n",
    "    return \"data\", 456, 85, 78.25, True, [23, 45, 67, 89, 12]"
   ]
  },
  {
   "cell_type": "code",
   "execution_count": 18,
   "id": "d8354d41",
   "metadata": {},
   "outputs": [
    {
     "data": {
      "text/plain": [
       "('data', 456, 85, 78.25, True, [23, 45, 67, 89, 12])"
      ]
     },
     "execution_count": 18,
     "metadata": {},
     "output_type": "execute_result"
    }
   ],
   "source": [
    "test3()"
   ]
  },
  {
   "cell_type": "code",
   "execution_count": 19,
   "id": "09735196",
   "metadata": {},
   "outputs": [],
   "source": [
    "a, b, c, d, e, f = test3()"
   ]
  },
  {
   "cell_type": "code",
   "execution_count": 20,
   "id": "67db82fd",
   "metadata": {},
   "outputs": [
    {
     "data": {
      "text/plain": [
       "'data'"
      ]
     },
     "execution_count": 20,
     "metadata": {},
     "output_type": "execute_result"
    }
   ],
   "source": [
    "a"
   ]
  },
  {
   "cell_type": "code",
   "execution_count": 21,
   "id": "37399929",
   "metadata": {},
   "outputs": [
    {
     "data": {
      "text/plain": [
       "456"
      ]
     },
     "execution_count": 21,
     "metadata": {},
     "output_type": "execute_result"
    }
   ],
   "source": [
    "b"
   ]
  },
  {
   "cell_type": "code",
   "execution_count": 22,
   "id": "215848aa",
   "metadata": {},
   "outputs": [
    {
     "data": {
      "text/plain": [
       "85"
      ]
     },
     "execution_count": 22,
     "metadata": {},
     "output_type": "execute_result"
    }
   ],
   "source": [
    "c"
   ]
  },
  {
   "cell_type": "code",
   "execution_count": 23,
   "id": "e1caaf64",
   "metadata": {},
   "outputs": [
    {
     "data": {
      "text/plain": [
       "78.25"
      ]
     },
     "execution_count": 23,
     "metadata": {},
     "output_type": "execute_result"
    }
   ],
   "source": [
    "d"
   ]
  },
  {
   "cell_type": "code",
   "execution_count": 24,
   "id": "c32312d7",
   "metadata": {},
   "outputs": [
    {
     "data": {
      "text/plain": [
       "True"
      ]
     },
     "execution_count": 24,
     "metadata": {},
     "output_type": "execute_result"
    }
   ],
   "source": [
    "e"
   ]
  },
  {
   "cell_type": "code",
   "execution_count": 25,
   "id": "79ac851c",
   "metadata": {},
   "outputs": [
    {
     "data": {
      "text/plain": [
       "[23, 45, 67, 89, 12]"
      ]
     },
     "execution_count": 25,
     "metadata": {},
     "output_type": "execute_result"
    }
   ],
   "source": [
    "f\n"
   ]
  },
  {
   "cell_type": "code",
   "execution_count": 26,
   "id": "f80d2bba",
   "metadata": {},
   "outputs": [],
   "source": [
    "def test4():\n",
    "    a = 4 + 6 / 4\n",
    "    return a\n"
   ]
  },
  {
   "cell_type": "code",
   "execution_count": 29,
   "id": "1d204353",
   "metadata": {},
   "outputs": [
    {
     "data": {
      "text/plain": [
       "5.5"
      ]
     },
     "execution_count": 29,
     "metadata": {},
     "output_type": "execute_result"
    }
   ],
   "source": [
    "test4()"
   ]
  },
  {
   "cell_type": "code",
   "execution_count": 30,
   "id": "86c68315",
   "metadata": {},
   "outputs": [],
   "source": [
    "def test5(a, b, c):\n",
    "    d = a + b/c\n",
    "    return d\n",
    "\n",
    "    "
   ]
  },
  {
   "cell_type": "code",
   "execution_count": 32,
   "id": "d9fb9255",
   "metadata": {},
   "outputs": [
    {
     "data": {
      "text/plain": [
       "23.671641791044777"
      ]
     },
     "execution_count": 32,
     "metadata": {},
     "output_type": "execute_result"
    }
   ],
   "source": [
    "test5(23, 45, 67)"
   ]
  },
  {
   "cell_type": "code",
   "execution_count": 33,
   "id": "b2d4f83a",
   "metadata": {},
   "outputs": [],
   "source": [
    "def test6(a, b):\n",
    "    return a + b\n",
    "\n",
    "    "
   ]
  },
  {
   "cell_type": "code",
   "execution_count": 35,
   "id": "860431e7",
   "metadata": {},
   "outputs": [
    {
     "data": {
      "text/plain": [
       "45"
      ]
     },
     "execution_count": 35,
     "metadata": {},
     "output_type": "execute_result"
    }
   ],
   "source": [
    "test6(20, 25)"
   ]
  },
  {
   "cell_type": "code",
   "execution_count": 36,
   "id": "8989a8d4",
   "metadata": {},
   "outputs": [
    {
     "data": {
      "text/plain": [
       "'sudhanshu'"
      ]
     },
     "execution_count": 36,
     "metadata": {},
     "output_type": "execute_result"
    }
   ],
   "source": [
    "test6(\"sudh\", \"anshu\")"
   ]
  },
  {
   "cell_type": "code",
   "execution_count": 37,
   "id": "ca2ef955",
   "metadata": {},
   "outputs": [
    {
     "data": {
      "text/plain": [
       "[12, 2, 3, 45, 56, 32, 54, 76, 98]"
      ]
     },
     "execution_count": 37,
     "metadata": {},
     "output_type": "execute_result"
    }
   ],
   "source": [
    "test6([12, 2,3 , 45, 56], [32, 54, 76, 98])"
   ]
  },
  {
   "cell_type": "code",
   "execution_count": 55,
   "id": "e4a7bebe",
   "metadata": {},
   "outputs": [],
   "source": [
    "l1 = []\n",
    "l3 = []\n",
    "def mixed_data(a_list):\n",
    "    for i in a_list:\n",
    "        if type(i) == int or type(i) == float:\n",
    "            l1.append(i)\n",
    "            \n",
    "    return l1\n",
    "            \n"
   ]
  },
  {
   "cell_type": "code",
   "execution_count": 58,
   "id": "993fdd21",
   "metadata": {},
   "outputs": [
    {
     "data": {
      "text/plain": [
       "[23, 54, 34.23, 23, 54, 34.23, 23, 54, 34.23]"
      ]
     },
     "execution_count": 58,
     "metadata": {},
     "output_type": "execute_result"
    }
   ],
   "source": [
    "list1 = [23, 54, \"data\", 34.23, \"science\", [45,78,89,36]]\n",
    "mixed_data(list1)"
   ]
  },
  {
   "cell_type": "code",
   "execution_count": 59,
   "id": "f16a78c7",
   "metadata": {},
   "outputs": [],
   "source": [
    "l2 = []\n",
    "def new_data(a):\n",
    "    \"\"\"this function extract values of different types from a list from a given list\"\"\"\n",
    "    for i in a:\n",
    "        if type(i) == list:\n",
    "            for j in i:\n",
    "                l2.append(j)\n",
    "            \n",
    "        else: \n",
    "            if type(i) == int or type(i) == float:\n",
    "                l2.append(i)\n",
    "    return l2"
   ]
  },
  {
   "cell_type": "code",
   "execution_count": 60,
   "id": "8f55dd7a",
   "metadata": {},
   "outputs": [
    {
     "data": {
      "text/plain": [
       "[23, 54, 34.23, 45, 78, 89, 36]"
      ]
     },
     "execution_count": 60,
     "metadata": {},
     "output_type": "execute_result"
    }
   ],
   "source": [
    "new_data(list1)"
   ]
  },
  {
   "cell_type": "code",
   "execution_count": 61,
   "id": "67fd4777",
   "metadata": {},
   "outputs": [],
   "source": [
    "def test10(a, b):\n",
    "    return a + b"
   ]
  },
  {
   "cell_type": "code",
   "execution_count": 72,
   "id": "fb5354b5",
   "metadata": {},
   "outputs": [],
   "source": [
    "# important points\n",
    "def test11(*args): # you can use any other word instead of args because this is all about asterisk(*)\n",
    "    return args"
   ]
  },
  {
   "cell_type": "code",
   "execution_count": 73,
   "id": "927502cf",
   "metadata": {},
   "outputs": [
    {
     "data": {
      "text/plain": [
       "()"
      ]
     },
     "execution_count": 73,
     "metadata": {},
     "output_type": "execute_result"
    }
   ],
   "source": [
    "test11()"
   ]
  },
  {
   "cell_type": "code",
   "execution_count": 65,
   "id": "6c572ff2",
   "metadata": {},
   "outputs": [
    {
     "data": {
      "text/plain": [
       "tuple"
      ]
     },
     "execution_count": 65,
     "metadata": {},
     "output_type": "execute_result"
    }
   ],
   "source": [
    "type(test11())"
   ]
  },
  {
   "cell_type": "code",
   "execution_count": 67,
   "id": "ce624451",
   "metadata": {},
   "outputs": [
    {
     "data": {
      "text/plain": [
       "(12, 34, 55)"
      ]
     },
     "execution_count": 67,
     "metadata": {},
     "output_type": "execute_result"
    }
   ],
   "source": [
    "test11(12, 34, 55)"
   ]
  },
  {
   "cell_type": "code",
   "execution_count": 71,
   "id": "e2955c9f",
   "metadata": {},
   "outputs": [
    {
     "data": {
      "text/plain": [
       "(12, 43, 56.5, 'data', 'engineering', [12, 34, 56, 67])"
      ]
     },
     "execution_count": 71,
     "metadata": {},
     "output_type": "execute_result"
    }
   ],
   "source": [
    "test11(12, 43, 56.50, \"data\", \"engineering\", [12, 34, 56, 67])"
   ]
  },
  {
   "cell_type": "code",
   "execution_count": 70,
   "id": "cd1cb201",
   "metadata": {},
   "outputs": [
    {
     "data": {
      "text/plain": [
       "[12, 43, 56.5, 'data', 'engineering', [12, 34, 56, 67]]"
      ]
     },
     "execution_count": 70,
     "metadata": {},
     "output_type": "execute_result"
    }
   ],
   "source": [
    "list(test11(12, 43, 56.50, \"data\", \"engineering\", [12, 34, 56, 67]))"
   ]
  },
  {
   "cell_type": "code",
   "execution_count": 75,
   "id": "520f858e",
   "metadata": {},
   "outputs": [],
   "source": [
    "def test12(*var):\n",
    "    return var"
   ]
  },
  {
   "cell_type": "code",
   "execution_count": 76,
   "id": "b800b20b",
   "metadata": {},
   "outputs": [
    {
     "data": {
      "text/plain": [
       "(12, 34, 56.43, 'namasateIndia', 'goodevening')"
      ]
     },
     "execution_count": 76,
     "metadata": {},
     "output_type": "execute_result"
    }
   ],
   "source": [
    "test12(12, 34, 56.43, \"namasateIndia\", \"goodevening\")"
   ]
  },
  {
   "cell_type": "code",
   "execution_count": 77,
   "id": "2c46fb95",
   "metadata": {},
   "outputs": [],
   "source": [
    "def test13(*args, a):\n",
    "    return args, a"
   ]
  },
  {
   "cell_type": "code",
   "execution_count": 79,
   "id": "dc625eab",
   "metadata": {},
   "outputs": [
    {
     "data": {
      "text/plain": [
       "((23, 45, 67), 100)"
      ]
     },
     "execution_count": 79,
     "metadata": {},
     "output_type": "execute_result"
    }
   ],
   "source": [
    "test13(23, 45, 67, a = 100)"
   ]
  },
  {
   "cell_type": "code",
   "execution_count": 81,
   "id": "15b3ed6e",
   "metadata": {},
   "outputs": [],
   "source": [
    "def test14(c, d, a = 20, b = 34):\n",
    "    return a, b, c, d"
   ]
  },
  {
   "cell_type": "code",
   "execution_count": 83,
   "id": "94e6b059",
   "metadata": {},
   "outputs": [
    {
     "data": {
      "text/plain": [
       "(20, 34, 100, 200)"
      ]
     },
     "execution_count": 83,
     "metadata": {},
     "output_type": "execute_result"
    }
   ],
   "source": [
    "test14(100, 200)"
   ]
  },
  {
   "cell_type": "code",
   "execution_count": 85,
   "id": "237f9614",
   "metadata": {},
   "outputs": [
    {
     "data": {
      "text/plain": [
       "(100, 34, 2, 5)"
      ]
     },
     "execution_count": 85,
     "metadata": {},
     "output_type": "execute_result"
    }
   ],
   "source": [
    "test14(2, 5, a = 100) # you can overwrite the value of a variable"
   ]
  },
  {
   "cell_type": "code",
   "execution_count": 86,
   "id": "4530a6c4",
   "metadata": {},
   "outputs": [],
   "source": [
    "def test15(**kwargs):\n",
    "    return kwargs"
   ]
  },
  {
   "cell_type": "code",
   "execution_count": 87,
   "id": "1d9fef0c",
   "metadata": {},
   "outputs": [
    {
     "data": {
      "text/plain": [
       "{}"
      ]
     },
     "execution_count": 87,
     "metadata": {},
     "output_type": "execute_result"
    }
   ],
   "source": [
    "test15()"
   ]
  },
  {
   "cell_type": "code",
   "execution_count": 88,
   "id": "96d281d6",
   "metadata": {},
   "outputs": [
    {
     "data": {
      "text/plain": [
       "dict"
      ]
     },
     "execution_count": 88,
     "metadata": {},
     "output_type": "execute_result"
    }
   ],
   "source": [
    "type(test15())"
   ]
  },
  {
   "cell_type": "code",
   "execution_count": 89,
   "id": "6944eed7",
   "metadata": {},
   "outputs": [
    {
     "data": {
      "text/plain": [
       "{'a': [1, 2, 3, 4], 'b': 'something', 'c': 23.34}"
      ]
     },
     "execution_count": 89,
     "metadata": {},
     "output_type": "execute_result"
    }
   ],
   "source": [
    "test15(a = [1, 2, 3, 4], b = \"something\", c = 23.34)"
   ]
  },
  {
   "cell_type": "code",
   "execution_count": null,
   "id": "1ce70e10",
   "metadata": {},
   "outputs": [],
   "source": []
  }
 ],
 "metadata": {
  "kernelspec": {
   "display_name": "Python 3 (ipykernel)",
   "language": "python",
   "name": "python3"
  },
  "language_info": {
   "codemirror_mode": {
    "name": "ipython",
    "version": 3
   },
   "file_extension": ".py",
   "mimetype": "text/x-python",
   "name": "python",
   "nbconvert_exporter": "python",
   "pygments_lexer": "ipython3",
   "version": "3.9.13"
  }
 },
 "nbformat": 4,
 "nbformat_minor": 5
}

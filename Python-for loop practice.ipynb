{
 "cells": [
  {
   "cell_type": "code",
   "execution_count": 2,
   "id": "5f920c3c",
   "metadata": {},
   "outputs": [],
   "source": [
    "list1 = [1, 2, 3, 4, 5]"
   ]
  },
  {
   "cell_type": "code",
   "execution_count": 3,
   "id": "87435c0f",
   "metadata": {},
   "outputs": [
    {
     "name": "stdout",
     "output_type": "stream",
     "text": [
      "1 <class 'int'>\n",
      "2 <class 'int'>\n",
      "3 <class 'int'>\n",
      "4 <class 'int'>\n",
      "5 <class 'int'>\n"
     ]
    }
   ],
   "source": [
    "for i in list1:\n",
    "    print(i, type(i))"
   ]
  },
  {
   "cell_type": "code",
   "execution_count": 4,
   "id": "acfd53a6",
   "metadata": {},
   "outputs": [
    {
     "name": "stdout",
     "output_type": "stream",
     "text": [
      "sudh <class 'str'>\n",
      "kumar <class 'str'>\n",
      "krish <class 'str'>\n",
      "raj <class 'str'>\n"
     ]
    }
   ],
   "source": [
    "list2 = [\"sudh\", \"kumar\", \"krish\", \"raj\"]\n",
    "for i in list2:\n",
    "    print(i, type(i))"
   ]
  },
  {
   "cell_type": "code",
   "execution_count": 5,
   "id": "39848b44",
   "metadata": {},
   "outputs": [
    {
     "data": {
      "text/plain": [
       "['sudh', 'kumar', 'krish', 'raj']"
      ]
     },
     "execution_count": 5,
     "metadata": {},
     "output_type": "execute_result"
    }
   ],
   "source": [
    "list2\n"
   ]
  },
  {
   "cell_type": "code",
   "execution_count": 6,
   "id": "69928a01",
   "metadata": {},
   "outputs": [
    {
     "name": "stdout",
     "output_type": "stream",
     "text": [
      "sudh\n",
      "kumar\n",
      "krish\n",
      "raj\n",
      "if for loop is able to complete then this else statement will execute otherwise not\n"
     ]
    }
   ],
   "source": [
    "for i in list2:\n",
    "    print(i)\n",
    "else:\n",
    "    print(\"if for loop is able to complete then this else statement will execute otherwise not\")"
   ]
  },
  {
   "cell_type": "code",
   "execution_count": 7,
   "id": "d347a0d9",
   "metadata": {},
   "outputs": [
    {
     "data": {
      "text/plain": [
       "['sudh', 'kumar', 'krish', 'raj']"
      ]
     },
     "execution_count": 7,
     "metadata": {},
     "output_type": "execute_result"
    }
   ],
   "source": [
    "list2"
   ]
  },
  {
   "cell_type": "code",
   "execution_count": 8,
   "id": "59fc8cbb",
   "metadata": {},
   "outputs": [
    {
     "name": "stdout",
     "output_type": "stream",
     "text": [
      "sudh\n"
     ]
    }
   ],
   "source": [
    "for i in list2:\n",
    "    if i == \"kumar\":\n",
    "        break\n",
    "    print(i)"
   ]
  },
  {
   "cell_type": "code",
   "execution_count": 9,
   "id": "a1c4d871",
   "metadata": {},
   "outputs": [
    {
     "data": {
      "text/plain": [
       "['sudh', 'kumar', 'krish', 'raj']"
      ]
     },
     "execution_count": 9,
     "metadata": {},
     "output_type": "execute_result"
    }
   ],
   "source": [
    "list2"
   ]
  },
  {
   "cell_type": "code",
   "execution_count": 10,
   "id": "02432144",
   "metadata": {},
   "outputs": [
    {
     "name": "stdout",
     "output_type": "stream",
     "text": [
      "sudh\n"
     ]
    }
   ],
   "source": [
    "for i in list2:\n",
    "    if i == \"kumar\":\n",
    "        break\n",
    "    print(i)\n",
    "else:\n",
    "    print(\"if for loop is able to complete then this else statment will execute otherwise not\")"
   ]
  },
  {
   "cell_type": "code",
   "execution_count": 11,
   "id": "61260b24",
   "metadata": {},
   "outputs": [
    {
     "data": {
      "text/plain": [
       "['sudh', 'kumar', 'krish', 'raj']"
      ]
     },
     "execution_count": 11,
     "metadata": {},
     "output_type": "execute_result"
    }
   ],
   "source": [
    "list2"
   ]
  },
  {
   "cell_type": "code",
   "execution_count": 12,
   "id": "5f64a0c6",
   "metadata": {},
   "outputs": [
    {
     "name": "stdout",
     "output_type": "stream",
     "text": [
      "sudh\n",
      "krish\n",
      "raj\n",
      "execute else statment if for loop is complete\n"
     ]
    }
   ],
   "source": [
    "for i in list2:\n",
    "    if i == \"kumar\":\n",
    "        continue\n",
    "    print(i)\n",
    "else:\n",
    "    print(\"execute else statment if for loop is complete\")"
   ]
  },
  {
   "cell_type": "code",
   "execution_count": 13,
   "id": "54db4ba7",
   "metadata": {},
   "outputs": [
    {
     "data": {
      "text/plain": [
       "range(0, 5)"
      ]
     },
     "execution_count": 13,
     "metadata": {},
     "output_type": "execute_result"
    }
   ],
   "source": [
    "range(5)"
   ]
  },
  {
   "cell_type": "code",
   "execution_count": 31,
   "id": "d07765ba",
   "metadata": {},
   "outputs": [
    {
     "data": {
      "text/plain": [
       "[0, 1, 2, 3, 4]"
      ]
     },
     "execution_count": 31,
     "metadata": {},
     "output_type": "execute_result"
    }
   ],
   "source": [
    "list(range(5))"
   ]
  },
  {
   "cell_type": "code",
   "execution_count": 30,
   "id": "b46f5175",
   "metadata": {},
   "outputs": [
    {
     "data": {
      "text/plain": [
       "[0, 2, 4, 6, 8, 10, 12, 14, 16, 18]"
      ]
     },
     "execution_count": 30,
     "metadata": {},
     "output_type": "execute_result"
    }
   ],
   "source": [
    "list(range(0, 20, 2))"
   ]
  },
  {
   "cell_type": "code",
   "execution_count": 32,
   "id": "3707385a",
   "metadata": {},
   "outputs": [
    {
     "data": {
      "text/plain": [
       "[-10, -8, -6, -4, -2]"
      ]
     },
     "execution_count": 32,
     "metadata": {},
     "output_type": "execute_result"
    }
   ],
   "source": [
    "list(range(-10, 0, 2))"
   ]
  },
  {
   "cell_type": "code",
   "execution_count": 33,
   "id": "34ba52ad",
   "metadata": {},
   "outputs": [
    {
     "data": {
      "text/plain": [
       "['sudh', 'kumar', 'krish', 'raj']"
      ]
     },
     "execution_count": 33,
     "metadata": {},
     "output_type": "execute_result"
    }
   ],
   "source": [
    "list2"
   ]
  },
  {
   "cell_type": "code",
   "execution_count": 37,
   "id": "70df686d",
   "metadata": {},
   "outputs": [
    {
     "data": {
      "text/plain": [
       "4"
      ]
     },
     "execution_count": 37,
     "metadata": {},
     "output_type": "execute_result"
    }
   ],
   "source": [
    "len(list2)"
   ]
  },
  {
   "cell_type": "code",
   "execution_count": 38,
   "id": "f087fae2",
   "metadata": {},
   "outputs": [
    {
     "data": {
      "text/plain": [
       "[0, 1, 2, 3]"
      ]
     },
     "execution_count": 38,
     "metadata": {},
     "output_type": "execute_result"
    }
   ],
   "source": [
    "list(range(len(list2)))"
   ]
  },
  {
   "cell_type": "code",
   "execution_count": 42,
   "id": "e0118516",
   "metadata": {},
   "outputs": [
    {
     "name": "stdout",
     "output_type": "stream",
     "text": [
      "sudh\n",
      "kumar\n",
      "krish\n",
      "raj\n"
     ]
    }
   ],
   "source": [
    "for i in range(len(list2)):\n",
    "    print(list2[i])"
   ]
  },
  {
   "cell_type": "code",
   "execution_count": 53,
   "id": "7a2921da",
   "metadata": {},
   "outputs": [
    {
     "data": {
      "text/plain": [
       "[3, 2, 1, 0]"
      ]
     },
     "execution_count": 53,
     "metadata": {},
     "output_type": "execute_result"
    }
   ],
   "source": [
    "list(range(len(list2)-1, -1, -1))"
   ]
  },
  {
   "cell_type": "code",
   "execution_count": 54,
   "id": "b0c9d391",
   "metadata": {},
   "outputs": [
    {
     "data": {
      "text/plain": [
       "['sudh', 'kumar', 'krish', 'raj']"
      ]
     },
     "execution_count": 54,
     "metadata": {},
     "output_type": "execute_result"
    }
   ],
   "source": [
    "list2"
   ]
  },
  {
   "cell_type": "code",
   "execution_count": 62,
   "id": "926b7756",
   "metadata": {},
   "outputs": [
    {
     "name": "stdout",
     "output_type": "stream",
     "text": [
      "raj\n",
      "krish\n",
      "kumar\n",
      "sudh\n"
     ]
    }
   ],
   "source": [
    "for i in range(len(list2)-1, -1, -1):\n",
    "    print(list2[i])"
   ]
  },
  {
   "cell_type": "code",
   "execution_count": 61,
   "id": "f0e448e0",
   "metadata": {},
   "outputs": [
    {
     "data": {
      "text/plain": [
       "['sudh', 'kumar', 'krish', 'raj']"
      ]
     },
     "execution_count": 61,
     "metadata": {},
     "output_type": "execute_result"
    }
   ],
   "source": [
    "list2"
   ]
  },
  {
   "cell_type": "code",
   "execution_count": 63,
   "id": "db46040b",
   "metadata": {},
   "outputs": [
    {
     "data": {
      "text/plain": [
       "range(0, 8)"
      ]
     },
     "execution_count": 63,
     "metadata": {},
     "output_type": "execute_result"
    }
   ],
   "source": [
    "list3 = [23, 54, 76, 345, 987, 1, 43, 56]\n",
    "range(0, len(list3))"
   ]
  },
  {
   "cell_type": "code",
   "execution_count": 66,
   "id": "c08e56b3",
   "metadata": {},
   "outputs": [
    {
     "data": {
      "text/plain": [
       "[0, 2, 4, 6]"
      ]
     },
     "execution_count": 66,
     "metadata": {},
     "output_type": "execute_result"
    }
   ],
   "source": [
    "list(range(0, len(list3), 2))"
   ]
  },
  {
   "cell_type": "code",
   "execution_count": 67,
   "id": "95a4364c",
   "metadata": {},
   "outputs": [
    {
     "name": "stdout",
     "output_type": "stream",
     "text": [
      "23\n",
      "76\n",
      "987\n",
      "43\n"
     ]
    }
   ],
   "source": [
    "for i in range(0, len(list3), 2):\n",
    "    print(list3[i])"
   ]
  },
  {
   "cell_type": "code",
   "execution_count": 68,
   "id": "a7c39414",
   "metadata": {},
   "outputs": [],
   "source": [
    "mylist = [23, 54, 76, 90, 1, 2, 3, 4, 5, 6, 7, 8, 8,]\n"
   ]
  },
  {
   "cell_type": "code",
   "execution_count": 69,
   "id": "0a0a2743",
   "metadata": {},
   "outputs": [
    {
     "data": {
      "text/plain": [
       "[23, 54, 76, 90, 1, 2, 3, 4, 5, 6, 7, 8, 8]"
      ]
     },
     "execution_count": 69,
     "metadata": {},
     "output_type": "execute_result"
    }
   ],
   "source": [
    "mylist"
   ]
  },
  {
   "cell_type": "code",
   "execution_count": 77,
   "id": "388b07d3",
   "metadata": {},
   "outputs": [
    {
     "data": {
      "text/plain": [
       "range(0, 13, 3)"
      ]
     },
     "execution_count": 77,
     "metadata": {},
     "output_type": "execute_result"
    }
   ],
   "source": [
    "range(0, len(mylist), 2)"
   ]
  },
  {
   "cell_type": "code",
   "execution_count": 78,
   "id": "15ce9b1e",
   "metadata": {},
   "outputs": [
    {
     "data": {
      "text/plain": [
       "[0, 3, 6, 9, 12]"
      ]
     },
     "execution_count": 78,
     "metadata": {},
     "output_type": "execute_result"
    }
   ],
   "source": [
    "list(range(0, len(mylist), 2))"
   ]
  },
  {
   "cell_type": "code",
   "execution_count": 81,
   "id": "878adfe7",
   "metadata": {},
   "outputs": [
    {
     "name": "stdout",
     "output_type": "stream",
     "text": [
      "23\n",
      "76\n",
      "1\n",
      "3\n",
      "5\n",
      "7\n",
      "8\n"
     ]
    }
   ],
   "source": [
    "for i in list(range(0, len(mylist), 2)):\n",
    "    print(mylist[i])"
   ]
  },
  {
   "cell_type": "code",
   "execution_count": 82,
   "id": "f1913cd4",
   "metadata": {},
   "outputs": [
    {
     "data": {
      "text/plain": [
       "[23, 54, 76, 90, 1, 2, 3, 4, 5, 6, 7, 8, 8]"
      ]
     },
     "execution_count": 82,
     "metadata": {},
     "output_type": "execute_result"
    }
   ],
   "source": [
    "mylist"
   ]
  },
  {
   "cell_type": "code",
   "execution_count": 83,
   "id": "6c85ed51",
   "metadata": {},
   "outputs": [
    {
     "data": {
      "text/plain": [
       "287"
      ]
     },
     "execution_count": 83,
     "metadata": {},
     "output_type": "execute_result"
    }
   ],
   "source": [
    "sum(mylist)"
   ]
  },
  {
   "cell_type": "code",
   "execution_count": 84,
   "id": "0bda8e54",
   "metadata": {},
   "outputs": [
    {
     "data": {
      "text/plain": [
       "287"
      ]
     },
     "execution_count": 84,
     "metadata": {},
     "output_type": "execute_result"
    }
   ],
   "source": [
    "result = 0\n",
    "for i in mylist:\n",
    "    result = result + i\n",
    "result"
   ]
  },
  {
   "cell_type": "code",
   "execution_count": 85,
   "id": "06181e93",
   "metadata": {},
   "outputs": [],
   "source": [
    "mytuple = (1, 2, 3, 4, 5, 6)"
   ]
  },
  {
   "cell_type": "code",
   "execution_count": 86,
   "id": "635af8a0",
   "metadata": {},
   "outputs": [
    {
     "data": {
      "text/plain": [
       "(1, 2, 3, 4, 5, 6)"
      ]
     },
     "execution_count": 86,
     "metadata": {},
     "output_type": "execute_result"
    }
   ],
   "source": [
    "mytuple"
   ]
  },
  {
   "cell_type": "code",
   "execution_count": 87,
   "id": "7d027bf3",
   "metadata": {},
   "outputs": [
    {
     "data": {
      "text/plain": [
       "21"
      ]
     },
     "execution_count": 87,
     "metadata": {},
     "output_type": "execute_result"
    }
   ],
   "source": [
    "sum(mytuple)"
   ]
  },
  {
   "cell_type": "code",
   "execution_count": 90,
   "id": "56d5bc03",
   "metadata": {},
   "outputs": [
    {
     "data": {
      "text/plain": [
       "21"
      ]
     },
     "execution_count": 90,
     "metadata": {},
     "output_type": "execute_result"
    }
   ],
   "source": [
    "result = 0\n",
    "\n",
    "for i in mytuple:\n",
    "    result = result + i\n",
    "result"
   ]
  },
  {
   "cell_type": "code",
   "execution_count": 93,
   "id": "bcef0ce6",
   "metadata": {},
   "outputs": [],
   "source": [
    "myset = {1, 2, 3, 4, \"sudh\", \"pwskills\", \"data\"}\n"
   ]
  },
  {
   "cell_type": "code",
   "execution_count": 94,
   "id": "cd995d63",
   "metadata": {},
   "outputs": [
    {
     "data": {
      "text/plain": [
       "{1, 2, 3, 4, 'data', 'pwskills', 'sudh'}"
      ]
     },
     "execution_count": 94,
     "metadata": {},
     "output_type": "execute_result"
    }
   ],
   "source": [
    "myset"
   ]
  },
  {
   "cell_type": "code",
   "execution_count": 96,
   "id": "e778778f",
   "metadata": {},
   "outputs": [
    {
     "name": "stdout",
     "output_type": "stream",
     "text": [
      "1\n",
      "2\n",
      "3\n",
      "4\n",
      "data\n",
      "pwskills\n",
      "sudh\n"
     ]
    }
   ],
   "source": [
    "for i in myset:\n",
    "    print(i)"
   ]
  },
  {
   "cell_type": "code",
   "execution_count": 97,
   "id": "57c9e0b0",
   "metadata": {},
   "outputs": [],
   "source": [
    "string1 = \"pwskills\"\n"
   ]
  },
  {
   "cell_type": "code",
   "execution_count": 100,
   "id": "9a964961",
   "metadata": {},
   "outputs": [
    {
     "data": {
      "text/plain": [
       "range(0, 8, 2)"
      ]
     },
     "execution_count": 100,
     "metadata": {},
     "output_type": "execute_result"
    }
   ],
   "source": [
    "range(0, len(string1), 2)"
   ]
  },
  {
   "cell_type": "code",
   "execution_count": 106,
   "id": "9fd6b48a",
   "metadata": {},
   "outputs": [
    {
     "name": "stdout",
     "output_type": "stream",
     "text": [
      "p\n",
      "s\n",
      "i\n",
      "l\n"
     ]
    }
   ],
   "source": [
    "for i in range(0, len(string1), 2):\n",
    "    print(string1[i])"
   ]
  },
  {
   "cell_type": "code",
   "execution_count": 107,
   "id": "607e782b",
   "metadata": {},
   "outputs": [],
   "source": [
    "my_dict = {\"name\": \"sudh\", \"class\": \"data science masters\", \"topic\": {\"python\",\"stats\", \"machine learning\", \"powerBI\"} }"
   ]
  },
  {
   "cell_type": "code",
   "execution_count": 108,
   "id": "fb2a1ecb",
   "metadata": {},
   "outputs": [
    {
     "data": {
      "text/plain": [
       "{'name': 'sudh',\n",
       " 'class': 'data science masters',\n",
       " 'topic': {'machine learning', 'powerBI', 'python', 'stats'}}"
      ]
     },
     "execution_count": 108,
     "metadata": {},
     "output_type": "execute_result"
    }
   ],
   "source": [
    "my_dict"
   ]
  },
  {
   "cell_type": "code",
   "execution_count": 112,
   "id": "1bf10b05",
   "metadata": {},
   "outputs": [
    {
     "data": {
      "text/plain": [
       "'sudh'"
      ]
     },
     "execution_count": 112,
     "metadata": {},
     "output_type": "execute_result"
    }
   ],
   "source": [
    "my_dict['name']"
   ]
  },
  {
   "cell_type": "code",
   "execution_count": 113,
   "id": "1c317b47",
   "metadata": {},
   "outputs": [
    {
     "data": {
      "text/plain": [
       "dict_keys(['name', 'class', 'topic'])"
      ]
     },
     "execution_count": 113,
     "metadata": {},
     "output_type": "execute_result"
    }
   ],
   "source": [
    "my_dict.keys()"
   ]
  },
  {
   "cell_type": "code",
   "execution_count": 114,
   "id": "df159b4d",
   "metadata": {},
   "outputs": [
    {
     "data": {
      "text/plain": [
       "dict_values(['sudh', 'data science masters', {'python', 'machine learning', 'stats', 'powerBI'}])"
      ]
     },
     "execution_count": 114,
     "metadata": {},
     "output_type": "execute_result"
    }
   ],
   "source": [
    "my_dict.values()"
   ]
  },
  {
   "cell_type": "code",
   "execution_count": 115,
   "id": "d5664372",
   "metadata": {},
   "outputs": [
    {
     "data": {
      "text/plain": [
       "dict_items([('name', 'sudh'), ('class', 'data science masters'), ('topic', {'python', 'machine learning', 'stats', 'powerBI'})])"
      ]
     },
     "execution_count": 115,
     "metadata": {},
     "output_type": "execute_result"
    }
   ],
   "source": [
    "my_dict.items()"
   ]
  },
  {
   "cell_type": "code",
   "execution_count": 116,
   "id": "9488915c",
   "metadata": {},
   "outputs": [
    {
     "name": "stdout",
     "output_type": "stream",
     "text": [
      "sudh\n",
      "data science masters\n",
      "{'python', 'machine learning', 'stats', 'powerBI'}\n"
     ]
    }
   ],
   "source": [
    "for i in my_dict.keys():\n",
    "    print(my_dict[i])"
   ]
  },
  {
   "cell_type": "code",
   "execution_count": 120,
   "id": "a99b5218",
   "metadata": {},
   "outputs": [
    {
     "name": "stdout",
     "output_type": "stream",
     "text": [
      "sudh\n",
      "data science masters\n",
      "{'python', 'machine learning', 'stats', 'powerBI'}\n"
     ]
    }
   ],
   "source": [
    "for i in my_dict.values():\n",
    "    print(i)"
   ]
  },
  {
   "cell_type": "code",
   "execution_count": 121,
   "id": "3b59e898",
   "metadata": {},
   "outputs": [
    {
     "name": "stdout",
     "output_type": "stream",
     "text": [
      "('name', 'sudh')\n",
      "('class', 'data science masters')\n",
      "('topic', {'python', 'machine learning', 'stats', 'powerBI'})\n"
     ]
    }
   ],
   "source": [
    "for i in my_dict.items():\n",
    "    print(i)"
   ]
  },
  {
   "cell_type": "code",
   "execution_count": null,
   "id": "7106eac6",
   "metadata": {},
   "outputs": [],
   "source": []
  }
 ],
 "metadata": {
  "kernelspec": {
   "display_name": "Python 3 (ipykernel)",
   "language": "python",
   "name": "python3"
  },
  "language_info": {
   "codemirror_mode": {
    "name": "ipython",
    "version": 3
   },
   "file_extension": ".py",
   "mimetype": "text/x-python",
   "name": "python",
   "nbconvert_exporter": "python",
   "pygments_lexer": "ipython3",
   "version": "3.9.13"
  }
 },
 "nbformat": 4,
 "nbformat_minor": 5
}

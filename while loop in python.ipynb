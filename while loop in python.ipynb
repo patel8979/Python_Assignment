{
 "cells": [
  {
   "cell_type": "code",
   "execution_count": null,
   "id": "41a5a0f7",
   "metadata": {},
   "outputs": [],
   "source": [
    "a = 1\n",
    "while a <= 10:\n",
    "    print(a)\n",
    "    a += 1"
   ]
  },
  {
   "cell_type": "markdown",
   "id": "cecaaeb9",
   "metadata": {},
   "source": [
    "sum up the number till some point"
   ]
  },
  {
   "cell_type": "code",
   "execution_count": null,
   "id": "0e73cf64",
   "metadata": {},
   "outputs": [],
   "source": [
    "n = int(input(\"enter your limit: \"))\n",
    "starting_value = 0\n",
    "counter = 1\n",
    "while counter <= n:\n",
    "    starting_value = starting_value + counter\n",
    "    counter = counter + 1\n",
    "starting_value"
   ]
  },
  {
   "cell_type": "code",
   "execution_count": null,
   "id": "d0fa2b37",
   "metadata": {},
   "outputs": [],
   "source": [
    "# let's find out the factorial of a number\n",
    "number = int(input(\"enter a number: \"))\n",
    "factorial = 1\n",
    "while number > 0:\n",
    "    factorial = factorial * number\n",
    "    number = number - 1\n",
    "factorial"
   ]
  },
  {
   "cell_type": "code",
   "execution_count": null,
   "id": "c26a17cb",
   "metadata": {},
   "outputs": [],
   "source": [
    "x = 0\n",
    "y = 1\n",
    "z = x + y\n",
    "x = y + z\n",
    "y = x + z\n"
   ]
  },
  {
   "cell_type": "code",
   "execution_count": 4,
   "id": "7f98fc62",
   "metadata": {},
   "outputs": [
    {
     "name": "stdout",
     "output_type": "stream",
     "text": [
      "enter the number of element you are looking for:10\n",
      "0\n",
      "1\n",
      "1\n",
      "2\n",
      "3\n",
      "5\n",
      "8\n",
      "13\n",
      "21\n",
      "34\n"
     ]
    }
   ],
   "source": [
    "# fibnonacci Series\n",
    "number = int(input(\"enter the number of element you are looking for:\"))\n",
    "a, b = 0, 1\n",
    "counter = 0\n",
    "while counter < number:\n",
    "    print(a)\n",
    "    c = a + b\n",
    "    a = b\n",
    "    b = c \n",
    "    counter = counter + 1"
   ]
  },
  {
   "cell_type": "code",
   "execution_count": 6,
   "id": "dc59ac7c",
   "metadata": {},
   "outputs": [
    {
     "name": "stdout",
     "output_type": "stream",
     "text": [
      "0\n",
      "1\n",
      "1\n",
      "2\n",
      "3\n",
      "5\n",
      "8\n",
      "13\n",
      "21\n",
      "34\n",
      "55\n",
      "89\n",
      "144\n",
      "233\n",
      "377\n",
      "610\n",
      "987\n",
      "1597\n",
      "2584\n",
      "4181\n"
     ]
    }
   ],
   "source": [
    "# using for loop\n",
    "a, b= 0, 1\n",
    "for i in range(20):\n",
    "    print(a)\n",
    "    c = a + b\n",
    "    a = b\n",
    "    b = c\n",
    "    "
   ]
  },
  {
   "cell_type": "code",
   "execution_count": null,
   "id": "d00c4cc3",
   "metadata": {},
   "outputs": [],
   "source": [
    "name = \"rajpatel\"\n",
    "name[::-1]"
   ]
  },
  {
   "cell_type": "code",
   "execution_count": null,
   "id": "d1340885",
   "metadata": {},
   "outputs": [],
   "source": [
    "word = input(\"enter your input: \")\n",
    "reverse = \"\"\n",
    "length = len(word)\n",
    "while length > 0:\n",
    "    reverse = reverse + word[length - 1]\n",
    "    length = length - 1\n",
    "print(reverse)"
   ]
  },
  {
   "cell_type": "code",
   "execution_count": 2,
   "id": "f80980db",
   "metadata": {},
   "outputs": [
    {
     "name": "stdout",
     "output_type": "stream",
     "text": [
      "enter your number: 12\n",
      "12 *  1 = 12\n",
      "12 *  2 = 24\n",
      "12 *  3 = 36\n",
      "12 *  4 = 48\n",
      "12 *  5 = 60\n",
      "12 *  6 = 72\n",
      "12 *  7 = 84\n",
      "12 *  8 = 96\n",
      "12 *  9 = 108\n",
      "12 *  10 = 120\n"
     ]
    }
   ],
   "source": [
    "n = int(input(\"enter your number: \"))\n",
    "i = 1\n",
    "while i <=10:\n",
    "    result = n * i\n",
    "    print(n, \"* \" , i, \"=\", result)\n",
    "    i = i + 1"
   ]
  },
  {
   "cell_type": "code",
   "execution_count": 3,
   "id": "8c43f00d",
   "metadata": {},
   "outputs": [
    {
     "name": "stdout",
     "output_type": "stream",
     "text": [
      "enter your number: 45\n",
      "45 *  0 = 0\n",
      "45 *  1 = 45\n",
      "45 *  2 = 90\n",
      "45 *  3 = 135\n",
      "45 *  4 = 180\n",
      "45 *  5 = 225\n",
      "45 *  6 = 270\n",
      "45 *  7 = 315\n",
      "45 *  8 = 360\n",
      "45 *  9 = 405\n",
      "45 *  10 = 450\n"
     ]
    }
   ],
   "source": [
    "\n",
    "n = int(input(\"enter your number: \"))\n",
    "for i in range(11):\n",
    "    result = n * i\n",
    "    print(n, \"* \", i, \"=\", result)\n",
    "    i = i + 1"
   ]
  },
  {
   "cell_type": "code",
   "execution_count": 4,
   "id": "4d8162c2",
   "metadata": {},
   "outputs": [
    {
     "name": "stdout",
     "output_type": "stream",
     "text": [
      "1\n",
      "2\n",
      "3\n"
     ]
    }
   ],
   "source": [
    "n = 10\n",
    "i = 1\n",
    "while i <= n:\n",
    "    print(i)\n",
    "    if i == 3:\n",
    "        break\n",
    "    i = i + 1\n",
    "else:\n",
    "    print(\"this will be executed once while will complete successfully\")"
   ]
  },
  {
   "cell_type": "code",
   "execution_count": null,
   "id": "45546e7c",
   "metadata": {},
   "outputs": [],
   "source": []
  }
 ],
 "metadata": {
  "kernelspec": {
   "display_name": "Python 3 (ipykernel)",
   "language": "python",
   "name": "python3"
  },
  "language_info": {
   "codemirror_mode": {
    "name": "ipython",
    "version": 3
   },
   "file_extension": ".py",
   "mimetype": "text/x-python",
   "name": "python",
   "nbconvert_exporter": "python",
   "pygments_lexer": "ipython3",
   "version": "3.9.13"
  }
 },
 "nbformat": 4,
 "nbformat_minor": 5
}

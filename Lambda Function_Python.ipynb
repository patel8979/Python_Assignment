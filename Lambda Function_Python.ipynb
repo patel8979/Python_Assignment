{
 "cells": [
  {
   "cell_type": "code",
   "execution_count": 1,
   "id": "8baa6631",
   "metadata": {},
   "outputs": [],
   "source": [
    "# find out square of a given number\n",
    "result = lambda i, n : i ** n"
   ]
  },
  {
   "cell_type": "code",
   "execution_count": 2,
   "id": "fcf6bded",
   "metadata": {},
   "outputs": [
    {
     "data": {
      "text/plain": [
       "16"
      ]
     },
     "execution_count": 2,
     "metadata": {},
     "output_type": "execute_result"
    }
   ],
   "source": [
    "result(2, 4)"
   ]
  },
  {
   "cell_type": "code",
   "execution_count": 3,
   "id": "58e8f0e0",
   "metadata": {},
   "outputs": [],
   "source": [
    "my_sum = lambda a, b: a + b"
   ]
  },
  {
   "cell_type": "code",
   "execution_count": 5,
   "id": "ea12bfee",
   "metadata": {},
   "outputs": [
    {
     "data": {
      "text/plain": [
       "30"
      ]
     },
     "execution_count": 5,
     "metadata": {},
     "output_type": "execute_result"
    }
   ],
   "source": [
    "my_sum(10, 20)"
   ]
  },
  {
   "cell_type": "code",
   "execution_count": 6,
   "id": "b6336056",
   "metadata": {},
   "outputs": [],
   "source": [
    "celsius_to_fahrenheit = lambda c : (9/5)*c + 32"
   ]
  },
  {
   "cell_type": "code",
   "execution_count": 7,
   "id": "dd89900b",
   "metadata": {},
   "outputs": [
    {
     "data": {
      "text/plain": [
       "98.60000000000001"
      ]
     },
     "execution_count": 7,
     "metadata": {},
     "output_type": "execute_result"
    }
   ],
   "source": [
    "celsius_to_fahrenheit(37)"
   ]
  },
  {
   "cell_type": "code",
   "execution_count": 8,
   "id": "254e49c6",
   "metadata": {},
   "outputs": [],
   "source": [
    "find_max_value = lambda x, y : x if x > y else y"
   ]
  },
  {
   "cell_type": "code",
   "execution_count": 9,
   "id": "00d6f39f",
   "metadata": {},
   "outputs": [
    {
     "data": {
      "text/plain": [
       "800"
      ]
     },
     "execution_count": 9,
     "metadata": {},
     "output_type": "execute_result"
    }
   ],
   "source": [
    "find_max_value(100, 800)"
   ]
  },
  {
   "cell_type": "code",
   "execution_count": 11,
   "id": "549d335c",
   "metadata": {},
   "outputs": [],
   "source": [
    "length_of_string = lambda name : len(name)"
   ]
  },
  {
   "cell_type": "code",
   "execution_count": 13,
   "id": "2a9a287d",
   "metadata": {},
   "outputs": [
    {
     "data": {
      "text/plain": [
       "3"
      ]
     },
     "execution_count": 13,
     "metadata": {},
     "output_type": "execute_result"
    }
   ],
   "source": [
    "length_of_string(\"bro\")"
   ]
  },
  {
   "cell_type": "code",
   "execution_count": null,
   "id": "3a20e05c",
   "metadata": {},
   "outputs": [],
   "source": []
  }
 ],
 "metadata": {
  "kernelspec": {
   "display_name": "Python 3 (ipykernel)",
   "language": "python",
   "name": "python3"
  },
  "language_info": {
   "codemirror_mode": {
    "name": "ipython",
    "version": 3
   },
   "file_extension": ".py",
   "mimetype": "text/x-python",
   "name": "python",
   "nbconvert_exporter": "python",
   "pygments_lexer": "ipython3",
   "version": "3.9.13"
  }
 },
 "nbformat": 4,
 "nbformat_minor": 5
}

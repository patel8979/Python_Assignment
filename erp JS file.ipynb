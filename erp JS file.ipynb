{
 "cells": [
  {
   "cell_type": "code",
   "execution_count": null,
   "id": "6fcbe13c",
   "metadata": {},
   "outputs": [],
   "source": [
    "// Copyright (c) 2023, Extension and contributors\n",
    "// For license information, please see license.txt\n",
    "/* eslint-disable */\n",
    "\n",
    "frappe.query_reports[\"Pending Purchase Order Report\"] = {\n",
    "    \"filters\": [\n",
    "        {\n",
    "            \"fieldname\": \"cost_center\",\n",
    "            \"label\": __(\"Branch\"),\n",
    "            \"fieldtype\": \"Link\",\n",
    "            \"options\": \"Cost Center\",\n",
    "\t\t\t\n",
    "        },\n",
    "        {\n",
    "            \"fieldname\": \"supplier\",\n",
    "            \"label\": __(\"Supplier\"),\n",
    "            \"fieldtype\": \"Link\",\n",
    "            \"options\": \"Supplier\",\n",
    "\t\t\t\n",
    "        },\n",
    "        {\n",
    "            \"fieldname\": \"from_date\",\n",
    "            \"label\": __(\"From Date\"),\n",
    "            \"fieldtype\": \"Date\",\n",
    "            \"default\": frappe.datetime.add_months(frappe.datetime.get_today(), -24),\n",
    "        },\n",
    "        {\n",
    "            \"fieldname\": \"to_date\",\n",
    "            \"label\": __(\"To Date\"),\n",
    "            \"fieldtype\": \"Date\",\n",
    "            \"default\": frappe.datetime.get_today(),\n",
    "        },\n",
    "    ]\n",
    "};"
   ]
  }
 ],
 "metadata": {
  "kernelspec": {
   "display_name": "Python 3 (ipykernel)",
   "language": "python",
   "name": "python3"
  },
  "language_info": {
   "codemirror_mode": {
    "name": "ipython",
    "version": 3
   },
   "file_extension": ".py",
   "mimetype": "text/x-python",
   "name": "python",
   "nbconvert_exporter": "python",
   "pygments_lexer": "ipython3",
   "version": "3.9.13"
  }
 },
 "nbformat": 4,
 "nbformat_minor": 5
}

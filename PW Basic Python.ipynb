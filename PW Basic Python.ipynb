{
 "cells": [
  {
   "cell_type": "code",
   "execution_count": null,
   "id": "f218552c",
   "metadata": {},
   "outputs": [],
   "source": [
    "my_list = [1, 2, 4, \"Raj\", True, 5 + 7j, 345.675]"
   ]
  },
  {
   "cell_type": "code",
   "execution_count": null,
   "id": "8673a98c",
   "metadata": {},
   "outputs": [],
   "source": [
    "my_list\n"
   ]
  },
  {
   "cell_type": "code",
   "execution_count": null,
   "id": "f9daee31",
   "metadata": {},
   "outputs": [],
   "source": [
    "type(my_list)"
   ]
  },
  {
   "cell_type": "code",
   "execution_count": null,
   "id": "ed32b301",
   "metadata": {},
   "outputs": [],
   "source": [
    "my_list[0]"
   ]
  },
  {
   "cell_type": "code",
   "execution_count": null,
   "id": "6f69930e",
   "metadata": {},
   "outputs": [],
   "source": [
    "my_list[6]"
   ]
  },
  {
   "cell_type": "code",
   "execution_count": null,
   "id": "f498ff8e",
   "metadata": {},
   "outputs": [],
   "source": [
    "# LIST INDEX OUT OF RANGE\n",
    "my_list[20] "
   ]
  },
  {
   "cell_type": "code",
   "execution_count": null,
   "id": "76704a57",
   "metadata": {},
   "outputs": [],
   "source": [
    "my_list[2:6]"
   ]
  },
  {
   "cell_type": "code",
   "execution_count": null,
   "id": "0041b758",
   "metadata": {},
   "outputs": [],
   "source": [
    "my_list"
   ]
  },
  {
   "cell_type": "code",
   "execution_count": null,
   "id": "bace6775",
   "metadata": {},
   "outputs": [],
   "source": [
    "my_list\n"
   ]
  },
  {
   "cell_type": "code",
   "execution_count": null,
   "id": "b5bb7423",
   "metadata": {},
   "outputs": [],
   "source": [
    "my_list[4]"
   ]
  },
  {
   "cell_type": "code",
   "execution_count": null,
   "id": "e6b81be5",
   "metadata": {},
   "outputs": [],
   "source": [
    "str(my_list[4])[2:4]\n"
   ]
  },
  {
   "cell_type": "code",
   "execution_count": null,
   "id": "19da84dd",
   "metadata": {},
   "outputs": [],
   "source": [
    "my_list[-1]"
   ]
  },
  {
   "cell_type": "code",
   "execution_count": null,
   "id": "1d85d954",
   "metadata": {},
   "outputs": [],
   "source": [
    "my_list[-1:-5]"
   ]
  },
  {
   "cell_type": "code",
   "execution_count": null,
   "id": "de35edcc",
   "metadata": {},
   "outputs": [],
   "source": [
    "my_list[::-1]"
   ]
  },
  {
   "cell_type": "code",
   "execution_count": null,
   "id": "c9ce0bf8",
   "metadata": {},
   "outputs": [],
   "source": [
    "my_list[::2]"
   ]
  },
  {
   "cell_type": "code",
   "execution_count": null,
   "id": "be62f319",
   "metadata": {},
   "outputs": [],
   "source": [
    "my_list[3]"
   ]
  },
  {
   "cell_type": "code",
   "execution_count": null,
   "id": "bb0d6307",
   "metadata": {},
   "outputs": [],
   "source": [
    "my_list[3][0:2]"
   ]
  },
  {
   "cell_type": "code",
   "execution_count": null,
   "id": "0128e748",
   "metadata": {},
   "outputs": [],
   "source": [
    "my_list"
   ]
  },
  {
   "cell_type": "code",
   "execution_count": null,
   "id": "224dab2c",
   "metadata": {},
   "outputs": [],
   "source": [
    "my_list+1"
   ]
  },
  {
   "cell_type": "code",
   "execution_count": null,
   "id": "786f41d8",
   "metadata": {},
   "outputs": [],
   "source": [
    "new_list = [34, 56, 78]\n",
    "my_list + new_list\n"
   ]
  },
  {
   "cell_type": "code",
   "execution_count": null,
   "id": "12ca398f",
   "metadata": {},
   "outputs": [],
   "source": [
    "my_list*2"
   ]
  },
  {
   "cell_type": "code",
   "execution_count": null,
   "id": "0f29bd47",
   "metadata": {},
   "outputs": [],
   "source": [
    "len(my_list)"
   ]
  },
  {
   "cell_type": "code",
   "execution_count": null,
   "id": "d9d7d881",
   "metadata": {},
   "outputs": [],
   "source": [
    "my_list.append(\"patel\")"
   ]
  },
  {
   "cell_type": "code",
   "execution_count": null,
   "id": "684ed6ff",
   "metadata": {},
   "outputs": [],
   "source": [
    "my_list"
   ]
  },
  {
   "cell_type": "code",
   "execution_count": null,
   "id": "229a9d4f",
   "metadata": {},
   "outputs": [],
   "source": [
    "new_list = [23, 56, 78, 90]\n",
    "my_list.append(new_list)"
   ]
  },
  {
   "cell_type": "code",
   "execution_count": null,
   "id": "5c18f577",
   "metadata": {},
   "outputs": [],
   "source": [
    "my_list"
   ]
  },
  {
   "cell_type": "code",
   "execution_count": null,
   "id": "fa75a54e",
   "metadata": {},
   "outputs": [],
   "source": [
    "my_list[8][0:3]"
   ]
  },
  {
   "cell_type": "code",
   "execution_count": null,
   "id": "fd66fbb9",
   "metadata": {},
   "outputs": [],
   "source": [
    "nested_list = [12, 34, [65, 897, 7678,[23, 45, 67]]]"
   ]
  },
  {
   "cell_type": "code",
   "execution_count": null,
   "id": "f205609e",
   "metadata": {},
   "outputs": [],
   "source": [
    "nested_list"
   ]
  },
  {
   "cell_type": "code",
   "execution_count": null,
   "id": "f33b07f7",
   "metadata": {},
   "outputs": [],
   "source": [
    "nested_list[2][3][0]"
   ]
  },
  {
   "cell_type": "code",
   "execution_count": null,
   "id": "066afdb2",
   "metadata": {},
   "outputs": [],
   "source": [
    "my_list.extend(\"good\")"
   ]
  },
  {
   "cell_type": "code",
   "execution_count": null,
   "id": "5adf615e",
   "metadata": {},
   "outputs": [],
   "source": [
    "my_list.extend([\"good\", \"amazing\", \"natural\"])"
   ]
  },
  {
   "cell_type": "code",
   "execution_count": null,
   "id": "b69dedd9",
   "metadata": {},
   "outputs": [],
   "source": [
    "my_list"
   ]
  },
  {
   "cell_type": "code",
   "execution_count": null,
   "id": "58b173c7",
   "metadata": {},
   "outputs": [],
   "source": [
    "my_list.insert(1, nested_list )"
   ]
  },
  {
   "cell_type": "code",
   "execution_count": null,
   "id": "394efe58",
   "metadata": {},
   "outputs": [],
   "source": [
    "my_list"
   ]
  },
  {
   "cell_type": "code",
   "execution_count": null,
   "id": "06da3dc2",
   "metadata": {},
   "outputs": [],
   "source": [
    "my_list.clear()"
   ]
  },
  {
   "cell_type": "code",
   "execution_count": null,
   "id": "ae498af1",
   "metadata": {},
   "outputs": [],
   "source": [
    "my_list.count(3)\n"
   ]
  },
  {
   "cell_type": "code",
   "execution_count": null,
   "id": "4144a6f9",
   "metadata": {},
   "outputs": [],
   "source": [
    "my_list.append(23)"
   ]
  },
  {
   "cell_type": "code",
   "execution_count": null,
   "id": "8441e434",
   "metadata": {},
   "outputs": [],
   "source": [
    "my_list"
   ]
  },
  {
   "cell_type": "code",
   "execution_count": null,
   "id": "25a515e8",
   "metadata": {},
   "outputs": [],
   "source": [
    "my_list.append(23)"
   ]
  },
  {
   "cell_type": "code",
   "execution_count": null,
   "id": "bafa8482",
   "metadata": {},
   "outputs": [],
   "source": [
    "my_list.count(23)"
   ]
  },
  {
   "cell_type": "code",
   "execution_count": null,
   "id": "9bae848f",
   "metadata": {},
   "outputs": [],
   "source": [
    "my_list.sort()"
   ]
  },
  {
   "cell_type": "code",
   "execution_count": null,
   "id": "f501d423",
   "metadata": {},
   "outputs": [],
   "source": [
    "first_list = [12, 54, 11, 90, 6, 565]"
   ]
  },
  {
   "cell_type": "code",
   "execution_count": null,
   "id": "d1c8f991",
   "metadata": {},
   "outputs": [],
   "source": [
    "first_list.sort()"
   ]
  },
  {
   "cell_type": "code",
   "execution_count": null,
   "id": "79ae4061",
   "metadata": {},
   "outputs": [],
   "source": [
    "first_list"
   ]
  },
  {
   "cell_type": "code",
   "execution_count": null,
   "id": "1ef35308",
   "metadata": {},
   "outputs": [],
   "source": [
    "first_list"
   ]
  },
  {
   "cell_type": "code",
   "execution_count": null,
   "id": "66ba196b",
   "metadata": {},
   "outputs": [],
   "source": [
    "first_list.insert(-1, 600)"
   ]
  },
  {
   "cell_type": "code",
   "execution_count": null,
   "id": "0071362d",
   "metadata": {},
   "outputs": [],
   "source": [
    "first_list"
   ]
  },
  {
   "cell_type": "code",
   "execution_count": null,
   "id": "821aa325",
   "metadata": {},
   "outputs": [],
   "source": [
    "first_list.pop()"
   ]
  },
  {
   "cell_type": "code",
   "execution_count": null,
   "id": "8f5ef9a9",
   "metadata": {},
   "outputs": [],
   "source": [
    "first_list"
   ]
  },
  {
   "cell_type": "code",
   "execution_count": null,
   "id": "93d562ab",
   "metadata": {},
   "outputs": [],
   "source": [
    "first_list.pop(2)"
   ]
  },
  {
   "cell_type": "code",
   "execution_count": null,
   "id": "74d6af38",
   "metadata": {},
   "outputs": [],
   "source": [
    "first_list"
   ]
  },
  {
   "cell_type": "code",
   "execution_count": null,
   "id": "529e50eb",
   "metadata": {},
   "outputs": [],
   "source": [
    "first_list.remove(11)"
   ]
  },
  {
   "cell_type": "code",
   "execution_count": null,
   "id": "14495a73",
   "metadata": {},
   "outputs": [],
   "source": [
    "first_list.remove(123)"
   ]
  },
  {
   "cell_type": "code",
   "execution_count": null,
   "id": "509a5a38",
   "metadata": {},
   "outputs": [],
   "source": [
    "first_list.insert(4, [45, 76, 98, 32])"
   ]
  },
  {
   "cell_type": "code",
   "execution_count": null,
   "id": "718260b4",
   "metadata": {},
   "outputs": [],
   "source": [
    "first_list"
   ]
  },
  {
   "cell_type": "code",
   "execution_count": null,
   "id": "65d0b0bb",
   "metadata": {},
   "outputs": [],
   "source": [
    "first_list[4:5].po"
   ]
  },
  {
   "cell_type": "code",
   "execution_count": null,
   "id": "4f979422",
   "metadata": {},
   "outputs": [],
   "source": [
    "first_list"
   ]
  },
  {
   "cell_type": "code",
   "execution_count": null,
   "id": "1de99dac",
   "metadata": {},
   "outputs": [],
   "source": [
    "first_list[4:5].pop([0][2])"
   ]
  },
  {
   "cell_type": "code",
   "execution_count": null,
   "id": "8f370fca",
   "metadata": {},
   "outputs": [],
   "source": [
    "first_list"
   ]
  },
  {
   "cell_type": "code",
   "execution_count": null,
   "id": "315ab4a1",
   "metadata": {},
   "outputs": [],
   "source": [
    "first_list[4].remove(32)"
   ]
  },
  {
   "cell_type": "code",
   "execution_count": null,
   "id": "6462558a",
   "metadata": {},
   "outputs": [],
   "source": [
    "first_list"
   ]
  },
  {
   "cell_type": "code",
   "execution_count": null,
   "id": "6ebbd08b",
   "metadata": {},
   "outputs": [],
   "source": [
    "any_list = [12, 34, \"good\", \"nature\", 23.32]"
   ]
  },
  {
   "cell_type": "code",
   "execution_count": null,
   "id": "41e42ddd",
   "metadata": {},
   "outputs": [],
   "source": [
    "any_list"
   ]
  },
  {
   "cell_type": "code",
   "execution_count": null,
   "id": "69667873",
   "metadata": {},
   "outputs": [],
   "source": [
    "any_list.extend(\"guru\")"
   ]
  },
  {
   "cell_type": "code",
   "execution_count": null,
   "id": "a9b7412b",
   "metadata": {},
   "outputs": [],
   "source": [
    "any_list"
   ]
  },
  {
   "cell_type": "code",
   "execution_count": null,
   "id": "e6483eec",
   "metadata": {},
   "outputs": [],
   "source": [
    "any_list.reverse()"
   ]
  },
  {
   "cell_type": "code",
   "execution_count": null,
   "id": "f1e88088",
   "metadata": {},
   "outputs": [],
   "source": [
    "any_list"
   ]
  },
  {
   "cell_type": "code",
   "execution_count": null,
   "id": "d00e2c14",
   "metadata": {},
   "outputs": [],
   "source": [
    "any_list.insert(2, \n",
    "                [\"d\",\"a\", \"y\", \"f\"])"
   ]
  },
  {
   "cell_type": "code",
   "execution_count": null,
   "id": "b359e7cf",
   "metadata": {},
   "outputs": [],
   "source": [
    "any_list"
   ]
  },
  {
   "cell_type": "code",
   "execution_count": null,
   "id": "911cd225",
   "metadata": {},
   "outputs": [],
   "source": [
    "anylist.sort()"
   ]
  },
  {
   "cell_type": "code",
   "execution_count": null,
   "id": "ed622812",
   "metadata": {},
   "outputs": [],
   "source": [
    "any_list[2].sort()"
   ]
  },
  {
   "cell_type": "code",
   "execution_count": null,
   "id": "eacf7339",
   "metadata": {},
   "outputs": [],
   "source": [
    "any_list"
   ]
  },
  {
   "cell_type": "code",
   "execution_count": null,
   "id": "67b63e40",
   "metadata": {},
   "outputs": [],
   "source": [
    "any_list[2:3].sort()"
   ]
  },
  {
   "cell_type": "code",
   "execution_count": null,
   "id": "9ba965b1",
   "metadata": {},
   "outputs": [],
   "source": [
    "any_list"
   ]
  },
  {
   "cell_type": "code",
   "execution_count": null,
   "id": "17fbf9ae",
   "metadata": {},
   "outputs": [],
   "source": [
    "any_list.insert(4, [\"u\", \"q\", \"a\", \"g\"])"
   ]
  },
  {
   "cell_type": "code",
   "execution_count": null,
   "id": "9d68e076",
   "metadata": {},
   "outputs": [],
   "source": [
    "any_list"
   ]
  },
  {
   "cell_type": "code",
   "execution_count": null,
   "id": "8b03a82e",
   "metadata": {},
   "outputs": [],
   "source": [
    "9any_list[4:5].sort()"
   ]
  },
  {
   "cell_type": "code",
   "execution_count": null,
   "id": "39a64314",
   "metadata": {},
   "outputs": [],
   "source": [
    "any_list"
   ]
  },
  {
   "cell_type": "code",
   "execution_count": null,
   "id": "8f1c1465",
   "metadata": {},
   "outputs": [],
   "source": [
    "newly_list = [90, 76, 54, 87, 43, 23, [32, 54, 60, 0, 1, 2]]"
   ]
  },
  {
   "cell_type": "code",
   "execution_count": null,
   "id": "2eff154f",
   "metadata": {},
   "outputs": [],
   "source": [
    "newly_list[6:7]"
   ]
  },
  {
   "cell_type": "code",
   "execution_count": null,
   "id": "09774604",
   "metadata": {},
   "outputs": [],
   "source": [
    "newly_list[6:7].pop().pop(3)"
   ]
  },
  {
   "cell_type": "code",
   "execution_count": null,
   "id": "1b95f66c",
   "metadata": {},
   "outputs": [],
   "source": [
    "newly_list"
   ]
  },
  {
   "cell_type": "code",
   "execution_count": null,
   "id": "ae537c95",
   "metadata": {},
   "outputs": [],
   "source": [
    "newly_list.sort()"
   ]
  },
  {
   "cell_type": "code",
   "execution_count": null,
   "id": "21e40f06",
   "metadata": {},
   "outputs": [],
   "source": [
    "your_data = [90, 54, 23, 1, 78, 7, 33, 61]"
   ]
  },
  {
   "cell_type": "code",
   "execution_count": null,
   "id": "a56c095b",
   "metadata": {},
   "outputs": [],
   "source": [
    "your_data.sort()"
   ]
  },
  {
   "cell_type": "code",
   "execution_count": null,
   "id": "fac1cc32",
   "metadata": {},
   "outputs": [],
   "source": [
    "your_data"
   ]
  },
  {
   "cell_type": "code",
   "execution_count": null,
   "id": "f9721b12",
   "metadata": {},
   "outputs": [],
   "source": [
    "your_data.reverse()"
   ]
  },
  {
   "cell_type": "code",
   "execution_count": null,
   "id": "1860b657",
   "metadata": {},
   "outputs": [],
   "source": [
    "your_data"
   ]
  },
  {
   "cell_type": "code",
   "execution_count": null,
   "id": "97d3daba",
   "metadata": {},
   "outputs": [],
   "source": [
    "our_data = [90, 54, 23, 1, 78, 7, 33, 61]"
   ]
  },
  {
   "cell_type": "code",
   "execution_count": null,
   "id": "5fc7d651",
   "metadata": {},
   "outputs": [],
   "source": [
    "our_data"
   ]
  },
  {
   "cell_type": "code",
   "execution_count": null,
   "id": "5131d209",
   "metadata": {},
   "outputs": [],
   "source": [
    "our_data.sort(reverse = True)"
   ]
  },
  {
   "cell_type": "code",
   "execution_count": null,
   "id": "46f1e84c",
   "metadata": {},
   "outputs": [],
   "source": [
    "our_data"
   ]
  },
  {
   "cell_type": "code",
   "execution_count": null,
   "id": "c11e0d38",
   "metadata": {},
   "outputs": [],
   "source": [
    "our_data.index(54)"
   ]
  },
  {
   "cell_type": "code",
   "execution_count": null,
   "id": "68fe69bf",
   "metadata": {},
   "outputs": [],
   "source": [
    "our_data.count(90)"
   ]
  },
  {
   "cell_type": "code",
   "execution_count": null,
   "id": "800b0dc7",
   "metadata": {},
   "outputs": [],
   "source": [
    "name = \"gullprasad\""
   ]
  },
  {
   "cell_type": "code",
   "execution_count": null,
   "id": "2369ec51",
   "metadata": {},
   "outputs": [],
   "source": [
    "name"
   ]
  },
  {
   "cell_type": "code",
   "execution_count": null,
   "id": "a33e0e04",
   "metadata": {},
   "outputs": [],
   "source": [
    "some = name.replace(\"g\", \"M\")"
   ]
  },
  {
   "cell_type": "code",
   "execution_count": null,
   "id": "7f62f93b",
   "metadata": {},
   "outputs": [],
   "source": [
    "some"
   ]
  },
  {
   "cell_type": "code",
   "execution_count": null,
   "id": "636ab983",
   "metadata": {},
   "outputs": [],
   "source": [
    "name\n"
   ]
  },
  {
   "cell_type": "code",
   "execution_count": null,
   "id": "dfee7d68",
   "metadata": {},
   "outputs": [],
   "source": [
    "our_data"
   ]
  },
  {
   "cell_type": "code",
   "execution_count": null,
   "id": "0d2d399a",
   "metadata": {},
   "outputs": [],
   "source": [
    "our_data[0] = 1000"
   ]
  },
  {
   "cell_type": "code",
   "execution_count": null,
   "id": "f7185d0b",
   "metadata": {},
   "outputs": [],
   "source": [
    "our_data"
   ]
  },
  {
   "cell_type": "code",
   "execution_count": null,
   "id": "d1cd602d",
   "metadata": {},
   "outputs": [],
   "source": [
    "our_data"
   ]
  },
  {
   "cell_type": "markdown",
   "id": "d8aea314",
   "metadata": {},
   "source": [
    "# Data Type - Tuple"
   ]
  },
  {
   "cell_type": "code",
   "execution_count": 1,
   "id": "e378b208",
   "metadata": {},
   "outputs": [],
   "source": [
    "our_data = (90, 54, 23, 1, 78, 7, 33, 61)"
   ]
  },
  {
   "cell_type": "code",
   "execution_count": 2,
   "id": "d4c0807d",
   "metadata": {},
   "outputs": [
    {
     "data": {
      "text/plain": [
       "(90, 54, 23, 1, 78, 7, 33, 61)"
      ]
     },
     "execution_count": 2,
     "metadata": {},
     "output_type": "execute_result"
    }
   ],
   "source": [
    "our_data"
   ]
  },
  {
   "cell_type": "code",
   "execution_count": 3,
   "id": "d1a4a9be",
   "metadata": {},
   "outputs": [
    {
     "data": {
      "text/plain": [
       "tuple"
      ]
     },
     "execution_count": 3,
     "metadata": {},
     "output_type": "execute_result"
    }
   ],
   "source": [
    "type(our_data)"
   ]
  },
  {
   "cell_type": "code",
   "execution_count": 4,
   "id": "ea9ad72f",
   "metadata": {},
   "outputs": [
    {
     "data": {
      "text/plain": [
       "8"
      ]
     },
     "execution_count": 4,
     "metadata": {},
     "output_type": "execute_result"
    }
   ],
   "source": [
    "len(our_data)"
   ]
  },
  {
   "cell_type": "code",
   "execution_count": 5,
   "id": "99753b99",
   "metadata": {},
   "outputs": [
    {
     "data": {
      "text/plain": [
       "54"
      ]
     },
     "execution_count": 5,
     "metadata": {},
     "output_type": "execute_result"
    }
   ],
   "source": [
    "our_data[1]"
   ]
  },
  {
   "cell_type": "code",
   "execution_count": 6,
   "id": "3b9e1e11",
   "metadata": {},
   "outputs": [
    {
     "data": {
      "text/plain": [
       "(23, 1, 78)"
      ]
     },
     "execution_count": 6,
     "metadata": {},
     "output_type": "execute_result"
    }
   ],
   "source": [
    "our_data[2:5]"
   ]
  },
  {
   "cell_type": "code",
   "execution_count": 7,
   "id": "0896f85e",
   "metadata": {},
   "outputs": [
    {
     "ename": "TypeError",
     "evalue": "'tuple' object does not support item assignment",
     "output_type": "error",
     "traceback": [
      "\u001b[1;31m---------------------------------------------------------------------------\u001b[0m",
      "\u001b[1;31mTypeError\u001b[0m                                 Traceback (most recent call last)",
      "\u001b[1;32m~\\AppData\\Local\\Temp\\ipykernel_11668\\385261380.py\u001b[0m in \u001b[0;36m<module>\u001b[1;34m\u001b[0m\n\u001b[1;32m----> 1\u001b[1;33m \u001b[0mour_data\u001b[0m\u001b[1;33m[\u001b[0m\u001b[1;36m1\u001b[0m\u001b[1;33m]\u001b[0m \u001b[1;33m=\u001b[0m \u001b[1;36m100\u001b[0m\u001b[1;33m\u001b[0m\u001b[1;33m\u001b[0m\u001b[0m\n\u001b[0m",
      "\u001b[1;31mTypeError\u001b[0m: 'tuple' object does not support item assignment"
     ]
    }
   ],
   "source": [
    "our_data[1] = 100"
   ]
  },
  {
   "cell_type": "code",
   "execution_count": 8,
   "id": "980090b8",
   "metadata": {},
   "outputs": [
    {
     "data": {
      "text/plain": [
       "(61, 33, 7, 78, 1, 23, 54, 90)"
      ]
     },
     "execution_count": 8,
     "metadata": {},
     "output_type": "execute_result"
    }
   ],
   "source": [
    "our_data[::-1]"
   ]
  },
  {
   "cell_type": "code",
   "execution_count": 9,
   "id": "f69daab3",
   "metadata": {},
   "outputs": [
    {
     "data": {
      "text/plain": [
       "1"
      ]
     },
     "execution_count": 9,
     "metadata": {},
     "output_type": "execute_result"
    }
   ],
   "source": [
    "our_data.count(61)"
   ]
  },
  {
   "cell_type": "code",
   "execution_count": 10,
   "id": "5afc9aed",
   "metadata": {},
   "outputs": [
    {
     "data": {
      "text/plain": [
       "4"
      ]
     },
     "execution_count": 10,
     "metadata": {},
     "output_type": "execute_result"
    }
   ],
   "source": [
    "our_data.index(78)"
   ]
  },
  {
   "cell_type": "markdown",
   "id": "926bf92d",
   "metadata": {},
   "source": [
    "# Data Type - Set"
   ]
  },
  {
   "cell_type": "code",
   "execution_count": 11,
   "id": "a597b63d",
   "metadata": {},
   "outputs": [],
   "source": [
    "s1 = {}"
   ]
  },
  {
   "cell_type": "code",
   "execution_count": 12,
   "id": "f1cad71c",
   "metadata": {},
   "outputs": [
    {
     "data": {
      "text/plain": [
       "{}"
      ]
     },
     "execution_count": 12,
     "metadata": {},
     "output_type": "execute_result"
    }
   ],
   "source": [
    "s1"
   ]
  },
  {
   "cell_type": "code",
   "execution_count": 13,
   "id": "9bc25454",
   "metadata": {},
   "outputs": [
    {
     "data": {
      "text/plain": [
       "dict"
      ]
     },
     "execution_count": 13,
     "metadata": {},
     "output_type": "execute_result"
    }
   ],
   "source": [
    "type(s1)"
   ]
  },
  {
   "cell_type": "code",
   "execution_count": 14,
   "id": "c6540fea",
   "metadata": {},
   "outputs": [],
   "source": [
    "s2 = {1, 3, 4, 5}"
   ]
  },
  {
   "cell_type": "code",
   "execution_count": 15,
   "id": "725178be",
   "metadata": {},
   "outputs": [
    {
     "data": {
      "text/plain": [
       "set"
      ]
     },
     "execution_count": 15,
     "metadata": {},
     "output_type": "execute_result"
    }
   ],
   "source": [
    "type(s2)"
   ]
  },
  {
   "cell_type": "markdown",
   "id": "c41bc210",
   "metadata": {},
   "source": [
    "# Data Type - Dictionary"
   ]
  },
  {
   "cell_type": "code",
   "execution_count": 1,
   "id": "90e63a5f",
   "metadata": {},
   "outputs": [],
   "source": [
    "d = {}"
   ]
  },
  {
   "cell_type": "code",
   "execution_count": 2,
   "id": "1e0bbf0d",
   "metadata": {},
   "outputs": [
    {
     "data": {
      "text/plain": [
       "dict"
      ]
     },
     "execution_count": 2,
     "metadata": {},
     "output_type": "execute_result"
    }
   ],
   "source": [
    "type(d)"
   ]
  },
  {
   "cell_type": "code",
   "execution_count": 3,
   "id": "6d498aff",
   "metadata": {},
   "outputs": [],
   "source": [
    "d1 = {'key': 'value'} # key should be unique"
   ]
  },
  {
   "cell_type": "code",
   "execution_count": 4,
   "id": "d76c983b",
   "metadata": {},
   "outputs": [
    {
     "data": {
      "text/plain": [
       "{'key': 'value'}"
      ]
     },
     "execution_count": 4,
     "metadata": {},
     "output_type": "execute_result"
    }
   ],
   "source": [
    "d1"
   ]
  },
  {
   "cell_type": "code",
   "execution_count": 5,
   "id": "b76ea279",
   "metadata": {},
   "outputs": [],
   "source": [
    "d2 = {'name': 'rajpatel', 'email': 'doitforme43@gmail.com', 'number': 7310683534}"
   ]
  },
  {
   "cell_type": "code",
   "execution_count": 6,
   "id": "ced01e0e",
   "metadata": {},
   "outputs": [
    {
     "data": {
      "text/plain": [
       "{'name': 'rajpatel', 'email': 'doitforme43@gmail.com', 'number': 7310683534}"
      ]
     },
     "execution_count": 6,
     "metadata": {},
     "output_type": "execute_result"
    }
   ],
   "source": [
    "d2"
   ]
  },
  {
   "cell_type": "code",
   "execution_count": 17,
   "id": "c9b33459",
   "metadata": {},
   "outputs": [],
   "source": [
    "d3 = {234: \"some\", \"_mer\" : \"numpy\", True: 1234}"
   ]
  },
  {
   "cell_type": "code",
   "execution_count": 18,
   "id": "ab2b05bb",
   "metadata": {},
   "outputs": [
    {
     "data": {
      "text/plain": [
       "{234: 'some', '_mer': 'numpy', True: 1234}"
      ]
     },
     "execution_count": 18,
     "metadata": {},
     "output_type": "execute_result"
    }
   ],
   "source": [
    "d3"
   ]
  },
  {
   "cell_type": "code",
   "execution_count": 24,
   "id": "fa52321b",
   "metadata": {},
   "outputs": [
    {
     "data": {
      "text/plain": [
       "'some'"
      ]
     },
     "execution_count": 24,
     "metadata": {},
     "output_type": "execute_result"
    }
   ],
   "source": [
    "d3[234]"
   ]
  },
  {
   "cell_type": "code",
   "execution_count": 21,
   "id": "cd373d38",
   "metadata": {},
   "outputs": [
    {
     "ename": "NameError",
     "evalue": "name '_mer' is not defined",
     "output_type": "error",
     "traceback": [
      "\u001b[1;31m---------------------------------------------------------------------------\u001b[0m",
      "\u001b[1;31mNameError\u001b[0m                                 Traceback (most recent call last)",
      "\u001b[1;32m~\\AppData\\Local\\Temp\\ipykernel_7788\\2562314018.py\u001b[0m in \u001b[0;36m<module>\u001b[1;34m\u001b[0m\n\u001b[1;32m----> 1\u001b[1;33m \u001b[0md3\u001b[0m\u001b[1;33m[\u001b[0m\u001b[0m_mer\u001b[0m\u001b[1;33m]\u001b[0m\u001b[1;33m\u001b[0m\u001b[1;33m\u001b[0m\u001b[0m\n\u001b[0m",
      "\u001b[1;31mNameError\u001b[0m: name '_mer' is not defined"
     ]
    }
   ],
   "source": [
    "d3[_mer]"
   ]
  },
  {
   "cell_type": "code",
   "execution_count": 25,
   "id": "7fc2c400",
   "metadata": {},
   "outputs": [
    {
     "data": {
      "text/plain": [
       "1234"
      ]
     },
     "execution_count": 25,
     "metadata": {},
     "output_type": "execute_result"
    }
   ],
   "source": [
    "d3[True]"
   ]
  },
  {
   "cell_type": "code",
   "execution_count": 26,
   "id": "5746e25e",
   "metadata": {},
   "outputs": [
    {
     "data": {
      "text/plain": [
       "1234"
      ]
     },
     "execution_count": 26,
     "metadata": {},
     "output_type": "execute_result"
    }
   ],
   "source": [
    "d3[1]"
   ]
  },
  {
   "cell_type": "code",
   "execution_count": 30,
   "id": "4da8ca07",
   "metadata": {},
   "outputs": [],
   "source": [
    "d4 = {'name': \"rajpatel\", \"email\": 'doitforme', 'name': \"patel\"}"
   ]
  },
  {
   "cell_type": "code",
   "execution_count": 31,
   "id": "365de965",
   "metadata": {},
   "outputs": [
    {
     "data": {
      "text/plain": [
       "{'name': 'patel', 'email': 'doitforme'}"
      ]
     },
     "execution_count": 31,
     "metadata": {},
     "output_type": "execute_result"
    }
   ],
   "source": [
    "d4"
   ]
  },
  {
   "cell_type": "code",
   "execution_count": 33,
   "id": "b17ae94f",
   "metadata": {},
   "outputs": [
    {
     "data": {
      "text/plain": [
       "'patel'"
      ]
     },
     "execution_count": 33,
     "metadata": {},
     "output_type": "execute_result"
    }
   ],
   "source": [
    "d4['name']"
   ]
  },
  {
   "cell_type": "code",
   "execution_count": 34,
   "id": "a650804c",
   "metadata": {},
   "outputs": [],
   "source": [
    "d5 = {\"company\": \"pwskills\", \"courses\": [\"web dev\", \"data science\", \"java with dsa system design\"]}"
   ]
  },
  {
   "cell_type": "code",
   "execution_count": 35,
   "id": "ef7edec5",
   "metadata": {},
   "outputs": [
    {
     "data": {
      "text/plain": [
       "{'company': 'pwskills',\n",
       " 'courses': ['web dev', 'data science', 'java with dsa system design']}"
      ]
     },
     "execution_count": 35,
     "metadata": {},
     "output_type": "execute_result"
    }
   ],
   "source": [
    "d5"
   ]
  },
  {
   "cell_type": "code",
   "execution_count": 39,
   "id": "936e296f",
   "metadata": {},
   "outputs": [
    {
     "data": {
      "text/plain": [
       "'data science'"
      ]
     },
     "execution_count": 39,
     "metadata": {},
     "output_type": "execute_result"
    }
   ],
   "source": [
    "d5['courses'][1]"
   ]
  },
  {
   "cell_type": "code",
   "execution_count": 45,
   "id": "332e3824",
   "metadata": {},
   "outputs": [],
   "source": [
    "d6 = {\"number\": [2, 34, 45, 6, 89], 'assignment': (12, 34, 56, 78, 90, 32), 'launch date': (28, 1, 2023), 'class Timing': {'web dev': 8, 'data science masters': 11, 'dsa with system design': 12}}"
   ]
  },
  {
   "cell_type": "code",
   "execution_count": 46,
   "id": "ce474fc4",
   "metadata": {},
   "outputs": [
    {
     "data": {
      "text/plain": [
       "{'number': [2, 34, 45, 6, 89],\n",
       " 'assignment': (12, 34, 56, 78, 90, 32),\n",
       " 'launch date': (28, 1, 2023),\n",
       " 'class Timing': {'web dev': 8,\n",
       "  'data science masters': 11,\n",
       "  'dsa with system design': 12}}"
      ]
     },
     "execution_count": 46,
     "metadata": {},
     "output_type": "execute_result"
    }
   ],
   "source": [
    "d6"
   ]
  },
  {
   "cell_type": "code",
   "execution_count": 54,
   "id": "1f849e76",
   "metadata": {},
   "outputs": [
    {
     "data": {
      "text/plain": [
       "12"
      ]
     },
     "execution_count": 54,
     "metadata": {},
     "output_type": "execute_result"
    }
   ],
   "source": [
    "d6['class Timing']['dsa with system design']"
   ]
  },
  {
   "cell_type": "code",
   "execution_count": 55,
   "id": "4402c698",
   "metadata": {},
   "outputs": [],
   "source": [
    "d6['courses'] = [\"Data science masters\", \"Java with DSA\", \"system Design\", \"Web Dev\"]"
   ]
  },
  {
   "cell_type": "code",
   "execution_count": 56,
   "id": "b1411928",
   "metadata": {},
   "outputs": [
    {
     "data": {
      "text/plain": [
       "{'number': [2, 34, 45, 6, 89],\n",
       " 'assignment': (12, 34, 56, 78, 90, 32),\n",
       " 'launch date': (28, 1, 2023),\n",
       " 'class Timing': {'web dev': 8,\n",
       "  'data science masters': 11,\n",
       "  'dsa with system design': 12},\n",
       " 'courses': ['Data science masters',\n",
       "  'Java with DSA',\n",
       "  'system Design',\n",
       "  'Web Dev']}"
      ]
     },
     "execution_count": 56,
     "metadata": {},
     "output_type": "execute_result"
    }
   ],
   "source": [
    "d6"
   ]
  },
  {
   "cell_type": "code",
   "execution_count": 57,
   "id": "2085c809",
   "metadata": {},
   "outputs": [],
   "source": [
    "del d6['number']"
   ]
  },
  {
   "cell_type": "code",
   "execution_count": 58,
   "id": "652d1896",
   "metadata": {},
   "outputs": [
    {
     "data": {
      "text/plain": [
       "{'assignment': (12, 34, 56, 78, 90, 32),\n",
       " 'launch date': (28, 1, 2023),\n",
       " 'class Timing': {'web dev': 8,\n",
       "  'data science masters': 11,\n",
       "  'dsa with system design': 12},\n",
       " 'courses': ['Data science masters',\n",
       "  'Java with DSA',\n",
       "  'system Design',\n",
       "  'Web Dev']}"
      ]
     },
     "execution_count": 58,
     "metadata": {},
     "output_type": "execute_result"
    }
   ],
   "source": [
    "d6"
   ]
  },
  {
   "cell_type": "code",
   "execution_count": 59,
   "id": "3683ec4d",
   "metadata": {},
   "outputs": [
    {
     "data": {
      "text/plain": [
       "dict_keys(['assignment', 'launch date', 'class Timing', 'courses'])"
      ]
     },
     "execution_count": 59,
     "metadata": {},
     "output_type": "execute_result"
    }
   ],
   "source": [
    "d6.keys()"
   ]
  },
  {
   "cell_type": "code",
   "execution_count": 60,
   "id": "f0448f3d",
   "metadata": {},
   "outputs": [
    {
     "data": {
      "text/plain": [
       "['assignment', 'launch date', 'class Timing', 'courses']"
      ]
     },
     "execution_count": 60,
     "metadata": {},
     "output_type": "execute_result"
    }
   ],
   "source": [
    "list(d6.keys())"
   ]
  },
  {
   "cell_type": "code",
   "execution_count": 61,
   "id": "98246ea2",
   "metadata": {},
   "outputs": [
    {
     "data": {
      "text/plain": [
       "dict_values([(12, 34, 56, 78, 90, 32), (28, 1, 2023), {'web dev': 8, 'data science masters': 11, 'dsa with system design': 12}, ['Data science masters', 'Java with DSA', 'system Design', 'Web Dev']])"
      ]
     },
     "execution_count": 61,
     "metadata": {},
     "output_type": "execute_result"
    }
   ],
   "source": [
    "d6.values()"
   ]
  },
  {
   "cell_type": "code",
   "execution_count": 62,
   "id": "eeae69d2",
   "metadata": {},
   "outputs": [
    {
     "data": {
      "text/plain": [
       "[(12, 34, 56, 78, 90, 32),\n",
       " (28, 1, 2023),\n",
       " {'web dev': 8, 'data science masters': 11, 'dsa with system design': 12},\n",
       " ['Data science masters', 'Java with DSA', 'system Design', 'Web Dev']]"
      ]
     },
     "execution_count": 62,
     "metadata": {},
     "output_type": "execute_result"
    }
   ],
   "source": [
    "list(d6.values())"
   ]
  },
  {
   "cell_type": "code",
   "execution_count": 63,
   "id": "20c6df68",
   "metadata": {},
   "outputs": [
    {
     "data": {
      "text/plain": [
       "dict_items([('assignment', (12, 34, 56, 78, 90, 32)), ('launch date', (28, 1, 2023)), ('class Timing', {'web dev': 8, 'data science masters': 11, 'dsa with system design': 12}), ('courses', ['Data science masters', 'Java with DSA', 'system Design', 'Web Dev'])])"
      ]
     },
     "execution_count": 63,
     "metadata": {},
     "output_type": "execute_result"
    }
   ],
   "source": [
    "d6.items()"
   ]
  },
  {
   "cell_type": "code",
   "execution_count": 64,
   "id": "3281368e",
   "metadata": {},
   "outputs": [
    {
     "data": {
      "text/plain": [
       "[('assignment', (12, 34, 56, 78, 90, 32)),\n",
       " ('launch date', (28, 1, 2023)),\n",
       " ('class Timing',\n",
       "  {'web dev': 8, 'data science masters': 11, 'dsa with system design': 12}),\n",
       " ('courses',\n",
       "  ['Data science masters', 'Java with DSA', 'system Design', 'Web Dev'])]"
      ]
     },
     "execution_count": 64,
     "metadata": {},
     "output_type": "execute_result"
    }
   ],
   "source": [
    "list(d6.items())"
   ]
  },
  {
   "cell_type": "code",
   "execution_count": 65,
   "id": "94f377e7",
   "metadata": {},
   "outputs": [
    {
     "data": {
      "text/plain": [
       "{'assignment': (12, 34, 56, 78, 90, 32),\n",
       " 'launch date': (28, 1, 2023),\n",
       " 'class Timing': {'web dev': 8,\n",
       "  'data science masters': 11,\n",
       "  'dsa with system design': 12},\n",
       " 'courses': ['Data science masters',\n",
       "  'Java with DSA',\n",
       "  'system Design',\n",
       "  'Web Dev']}"
      ]
     },
     "execution_count": 65,
     "metadata": {},
     "output_type": "execute_result"
    }
   ],
   "source": [
    "d6"
   ]
  },
  {
   "cell_type": "code",
   "execution_count": 67,
   "id": "3425b8d3",
   "metadata": {},
   "outputs": [
    {
     "data": {
      "text/plain": [
       "(12, 34, 56, 78, 90, 32)"
      ]
     },
     "execution_count": 67,
     "metadata": {},
     "output_type": "execute_result"
    }
   ],
   "source": [
    "d6.pop('assignment')"
   ]
  },
  {
   "cell_type": "code",
   "execution_count": 68,
   "id": "b39540eb",
   "metadata": {},
   "outputs": [
    {
     "data": {
      "text/plain": [
       "{'launch date': (28, 1, 2023),\n",
       " 'class Timing': {'web dev': 8,\n",
       "  'data science masters': 11,\n",
       "  'dsa with system design': 12},\n",
       " 'courses': ['Data science masters',\n",
       "  'Java with DSA',\n",
       "  'system Design',\n",
       "  'Web Dev']}"
      ]
     },
     "execution_count": 68,
     "metadata": {},
     "output_type": "execute_result"
    }
   ],
   "source": [
    "d6"
   ]
  },
  {
   "cell_type": "markdown",
   "id": "ed1ad11e",
   "metadata": {},
   "source": [
    "# Control Flow Statement"
   ]
  },
  {
   "cell_type": "code",
   "execution_count": 75,
   "id": "c219dae4",
   "metadata": {},
   "outputs": [
    {
     "name": "stdout",
     "output_type": "stream",
     "text": [
      "enter a number:41\n",
      "you will be a part of A2 batch\n"
     ]
    }
   ],
   "source": [
    "marks = int(input(\"enter a number:\"))\n",
    "if marks >= 80:\n",
    "    print(\"You will be able a part of A0 batch\")\n",
    "elif marks >= 60 and marks < 80:\n",
    "    print(\"You will be a part of A1 batch\")\n",
    "elif marks >= 40 and marks <60:\n",
    "    print(\"you will be a part of A2 batch\")\n",
    "else:\n",
    "    print(\"you will be part of A3 batch\")\n",
    "    "
   ]
  },
  {
   "cell_type": "code",
   "execution_count": 76,
   "id": "17596d87",
   "metadata": {},
   "outputs": [
    {
     "data": {
      "text/plain": [
       "41"
      ]
     },
     "execution_count": 76,
     "metadata": {},
     "output_type": "execute_result"
    }
   ],
   "source": [
    "marks"
   ]
  },
  {
   "cell_type": "code",
   "execution_count": 77,
   "id": "669c6db3",
   "metadata": {},
   "outputs": [
    {
     "data": {
      "text/plain": [
       "int"
      ]
     },
     "execution_count": 77,
     "metadata": {},
     "output_type": "execute_result"
    }
   ],
   "source": [
    "type(marks)"
   ]
  },
  {
   "cell_type": "code",
   "execution_count": 82,
   "id": "a145f86a",
   "metadata": {},
   "outputs": [
    {
     "name": "stdout",
     "output_type": "stream",
     "text": [
      "enter amount:700\n",
      "will purchase!\n"
     ]
    }
   ],
   "source": [
    "price = int(input('enter amount:'))\n",
    "if price > 1000:\n",
    "    print(\"will not purchase!\")\n",
    "else:\n",
    "    print(\"will purchase!\")"
   ]
  },
  {
   "cell_type": "markdown",
   "id": "dbcdb183",
   "metadata": {},
   "source": [
    "# loop"
   ]
  },
  {
   "cell_type": "code",
   "execution_count": 102,
   "id": "57c0fb38",
   "metadata": {},
   "outputs": [
    {
     "name": "stdout",
     "output_type": "stream",
     "text": [
      "previous List: [1, 2, 3, 4, 5, 6, 7, 8, 9]\n",
      "2\n",
      "3\n",
      "4\n",
      "5\n",
      "6\n",
      "7\n",
      "8\n",
      "9\n",
      "10\n",
      "New List : [2, 3, 4, 5, 6, 7, 8, 9, 10]\n"
     ]
    }
   ],
   "source": [
    "l = [1, 2, 3, 4, 5, 6, 7, 8, 9]\n",
    "print(\"previous List:\", l)\n",
    "l1 = []\n",
    "for i in l:\n",
    "    print(i+1)\n",
    "    l1.append(i+1)\n",
    "print(\"New List :\", l1)    "
   ]
  },
  {
   "cell_type": "code",
   "execution_count": 115,
   "id": "38128a8b",
   "metadata": {},
   "outputs": [
    {
     "name": "stdout",
     "output_type": "stream",
     "text": [
      "data\n",
      "coding\n",
      "nothing\n",
      "driven\n",
      "insights\n",
      "['DATA', 'CODING', 'NOTHING', 'DRIVEN', 'INSIGHTS']\n"
     ]
    }
   ],
   "source": [
    "l2 = [\"data\", \"coding\", \"nothing\", \"driven\", \"insights\"]\n",
    "l3 = []\n",
    "for i in l2:\n",
    "    print(i)\n",
    "    l3.append(i.upper())\n",
    "print(l3)"
   ]
  },
  {
   "cell_type": "code",
   "execution_count": 116,
   "id": "4dd3e90b",
   "metadata": {},
   "outputs": [
    {
     "data": {
      "text/plain": [
       "['DATA', 'CODING', 'NOTHING', 'DRIVEN', 'INSIGHTS']"
      ]
     },
     "execution_count": 116,
     "metadata": {},
     "output_type": "execute_result"
    }
   ],
   "source": [
    "l3"
   ]
  },
  {
   "cell_type": "code",
   "execution_count": 119,
   "id": "47c18279",
   "metadata": {},
   "outputs": [],
   "source": [
    "l4 = [1, 2, 3, 4, 4,  \"sudh\", \"kumar\", 234, 456.32, \"abc\"]"
   ]
  },
  {
   "cell_type": "code",
   "execution_count": 128,
   "id": "afd42bed",
   "metadata": {},
   "outputs": [
    {
     "name": "stdout",
     "output_type": "stream",
     "text": [
      "List with only integer value [1, 2, 3, 4, 4, 234, 456.32]\n",
      "List with only string value ['sudh', 'kumar', 'abc']\n"
     ]
    }
   ],
   "source": [
    "l5_numeric = []\n",
    "l6_string = []\n",
    "for i in l4:\n",
    "    if type(i) == int or type(i) == float:\n",
    "        l5_numeric.append(i)\n",
    "    else:\n",
    "        l6_string.append(i)\n",
    "print(\"List with only integer value\", l5_numeric)\n",
    "print(\"List with only string value\", l6_string)"
   ]
  },
  {
   "cell_type": "code",
   "execution_count": 126,
   "id": "048d14a9",
   "metadata": {},
   "outputs": [
    {
     "data": {
      "text/plain": [
       "[1, 2, 3, 4, 4, 234, 456.32]"
      ]
     },
     "execution_count": 126,
     "metadata": {},
     "output_type": "execute_result"
    }
   ],
   "source": [
    "l5_numeric"
   ]
  },
  {
   "cell_type": "code",
   "execution_count": 127,
   "id": "fbd2d170",
   "metadata": {},
   "outputs": [
    {
     "data": {
      "text/plain": [
       "['sudh', 'kumar', 'abc']"
      ]
     },
     "execution_count": 127,
     "metadata": {},
     "output_type": "execute_result"
    }
   ],
   "source": [
    "l6_string"
   ]
  },
  {
   "cell_type": "code",
   "execution_count": null,
   "id": "a0cd42c4",
   "metadata": {},
   "outputs": [],
   "source": []
  }
 ],
 "metadata": {
  "kernelspec": {
   "display_name": "Python 3 (ipykernel)",
   "language": "python",
   "name": "python3"
  },
  "language_info": {
   "codemirror_mode": {
    "name": "ipython",
    "version": 3
   },
   "file_extension": ".py",
   "mimetype": "text/x-python",
   "name": "python",
   "nbconvert_exporter": "python",
   "pygments_lexer": "ipython3",
   "version": "3.9.13"
  }
 },
 "nbformat": 4,
 "nbformat_minor": 5
}
